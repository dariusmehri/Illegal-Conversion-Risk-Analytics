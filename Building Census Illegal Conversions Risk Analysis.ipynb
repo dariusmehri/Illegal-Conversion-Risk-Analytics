{
 "cells": [
  {
   "cell_type": "markdown",
   "metadata": {},
   "source": [
    "# OWNER LEVEL"
   ]
  },
  {
   "cell_type": "markdown",
   "metadata": {},
   "source": [
    "HPD 317 Phone Codes"
   ]
  },
  {
   "cell_type": "code",
   "execution_count": 23,
   "metadata": {
    "collapsed": false
   },
   "outputs": [
    {
     "name": "stdout",
     "output_type": "stream",
     "text": [
      "len before drop 622992\n",
      "499278\n",
      "499278\n",
      "244132\n"
     ]
    }
   ],
   "source": [
    "import pandas as pd\n",
    "import numpy as np\n",
    "\n",
    "path = \"C:\\\\Users\\\\dmehri\\\\Documents\\\\DATA\\\\Building Census\\\\Columbia Data\\\\illegal conv\\\\\"\n",
    "\n",
    "df = pd.read_csv(path + \"Property BIN and Phone Number with Codes HPD COLUMBIA.csv\")\n",
    "\n",
    "df[\"Building Count\"] = 1\n",
    "\n",
    "df[\"BIN\"] = df[\"BIN\"].astype(str).map(str.strip)\n",
    "\n",
    "print \"len before drop\", len(df)\n",
    "df = df[df[\"NumberDigits\"] == 10]\n",
    "print len(df)\n",
    "df[\"PhoneCode\"] = df[\"PhoneCode\"].astype(str).map(str.strip)\n",
    "df = df[df[\"PhoneCode\"] != \"301611\"].reset_index(drop=True)\n",
    "print len(df)\n",
    "\n",
    "uniqPhoneCode = set(df[\"PhoneCode\"].tolist())\n",
    "\n",
    "print len(uniqPhoneCode)\n"
   ]
  },
  {
   "cell_type": "code",
   "execution_count": 24,
   "metadata": {
    "collapsed": false
   },
   "outputs": [
    {
     "data": {
      "text/html": [
       "<div>\n",
       "<table border=\"1\" class=\"dataframe\">\n",
       "  <thead>\n",
       "    <tr style=\"text-align: right;\">\n",
       "      <th></th>\n",
       "      <th>BIN</th>\n",
       "      <th>BBL</th>\n",
       "      <th>NumberDigits</th>\n",
       "      <th>AreaCode</th>\n",
       "      <th>PhoneCode</th>\n",
       "      <th>Building Count</th>\n",
       "    </tr>\n",
       "  </thead>\n",
       "  <tbody>\n",
       "    <tr>\n",
       "      <th>0</th>\n",
       "      <td>1000005</td>\n",
       "      <td>1000047501</td>\n",
       "      <td>10</td>\n",
       "      <td>201</td>\n",
       "      <td>66088</td>\n",
       "      <td>1</td>\n",
       "    </tr>\n",
       "  </tbody>\n",
       "</table>\n",
       "</div>"
      ],
      "text/plain": [
       "       BIN         BBL  NumberDigits AreaCode PhoneCode  Building Count\n",
       "0  1000005  1000047501            10      201     66088               1"
      ]
     },
     "execution_count": 24,
     "metadata": {},
     "output_type": "execute_result"
    }
   ],
   "source": [
    "df.head(1)"
   ]
  },
  {
   "cell_type": "markdown",
   "metadata": {},
   "source": [
    "Illegal Convers Complaints"
   ]
  },
  {
   "cell_type": "code",
   "execution_count": 21,
   "metadata": {
    "collapsed": false
   },
   "outputs": [],
   "source": [
    "\n",
    "def FinalComplaintDisposition(d):\n",
    "    print \"len of datframe\", len(d)\n",
    "    complaints = sorted(list(set(d[\"Complaint Number\"].tolist()) ) )\n",
    "    print \"number of unique complaints\", len(complaints)\n",
    "    \n",
    "    all_data = pd.DataFrame()\n",
    "    \n",
    "    d['Inspection Date'] = pd.to_datetime(d['Inspection Date'])\n",
    "\n",
    "    for i in range(0, len(complaints)):\n",
    "        if i%3000 == 0:\n",
    "            print i\n",
    "        d2 = d[d[\"Complaint Number\"] == complaints[i]]\n",
    "        \n",
    "        #sort to get the df with the latest dist\n",
    "        d2 = d2.sort_values(by = 'Inspection Date', ascending=False).reset_index(drop=True)\n",
    "\n",
    "        d2[\"Index\"] = d2.index\n",
    "        \n",
    "        #subset the dataframe to get the latest date\n",
    "        d2 = d2[d2[\"Index\"] < 1]\n",
    "        \n",
    "        #print i\n",
    "        #print d2\n",
    "        #print \"*****************\"\n",
    "        \n",
    "        #add the dataframes\n",
    "        all_data = all_data.append(d2,ignore_index=False)\n",
    "    \n",
    "    #final dataframe\n",
    "    all_data = all_data.reset_index(drop=True)\n",
    "    \n",
    "    print \"len of final dataframe\", len(all_data)\n",
    "\n",
    "\n",
    "    return all_data\n",
    "\n",
    "    #dd.to_csv(path + \"test.csv\", index=False)\n",
    "\n",
    "#x = FinalComplaintDisposition(di)\n",
    "\n",
    "    "
   ]
  },
  {
   "cell_type": "code",
   "execution_count": 73,
   "metadata": {
    "collapsed": false
   },
   "outputs": [
    {
     "data": {
      "text/html": [
       "<div>\n",
       "<table border=\"1\" class=\"dataframe\">\n",
       "  <thead>\n",
       "    <tr style=\"text-align: right;\">\n",
       "      <th></th>\n",
       "      <th>Complaint Number</th>\n",
       "      <th>Status</th>\n",
       "      <th>Date Entered</th>\n",
       "      <th>House Number</th>\n",
       "      <th>ZIP Code</th>\n",
       "      <th>House Street</th>\n",
       "      <th>BIN</th>\n",
       "      <th>Community Board</th>\n",
       "      <th>Special District</th>\n",
       "      <th>Complaint Category</th>\n",
       "      <th>Unit</th>\n",
       "      <th>Disposition Date</th>\n",
       "      <th>Disposition Code</th>\n",
       "      <th>Inspection Date</th>\n",
       "      <th>DOBRunDate</th>\n",
       "      <th>Index</th>\n",
       "    </tr>\n",
       "  </thead>\n",
       "  <tbody>\n",
       "    <tr>\n",
       "      <th>0</th>\n",
       "      <td>1440433</td>\n",
       "      <td>CLOSED</td>\n",
       "      <td>2017-01-03</td>\n",
       "      <td>132</td>\n",
       "      <td>10027</td>\n",
       "      <td>WEST 129 STREET</td>\n",
       "      <td>1057957</td>\n",
       "      <td>110</td>\n",
       "      <td></td>\n",
       "      <td>45</td>\n",
       "      <td>MAN.</td>\n",
       "      <td>03/10/2017</td>\n",
       "      <td>A8</td>\n",
       "      <td>2017-03-09</td>\n",
       "      <td>11/07/2018 12:00:00 AM</td>\n",
       "      <td>0</td>\n",
       "    </tr>\n",
       "  </tbody>\n",
       "</table>\n",
       "</div>"
      ],
      "text/plain": [
       "   Complaint Number  Status Date Entered  House Number   ZIP Code  \\\n",
       "0           1440433  CLOSED   2017-01-03  132           10027       \n",
       "\n",
       "                       House Street      BIN Community Board Special District  \\\n",
       "0  WEST 129 STREET                   1057957             110                    \n",
       "\n",
       "  Complaint Category  Unit Disposition Date Disposition Code Inspection Date  \\\n",
       "0                 45  MAN.       03/10/2017               A8      2017-03-09   \n",
       "\n",
       "               DOBRunDate  Index  \n",
       "0  11/07/2018 12:00:00 AM      0  "
      ]
     },
     "execution_count": 73,
     "metadata": {},
     "output_type": "execute_result"
    }
   ],
   "source": [
    "x.head(1)"
   ]
  },
  {
   "cell_type": "code",
   "execution_count": 74,
   "metadata": {
    "collapsed": false
   },
   "outputs": [
    {
     "name": "stdout",
     "output_type": "stream",
     "text": [
      "len of all complaints 2569490\n",
      "get only illegal conversion complaints, 45, 31, 71\n",
      "len after getting only ics 489177\n",
      "get only tru complaints, drop I1, I2\n",
      "len after drop I1, I2 376556\n",
      "len before drop 376556\n",
      "len after drop 97118\n",
      "len of datframe 97118\n",
      "number of unique complaints 57398\n",
      "0\n",
      "3000\n",
      "6000\n",
      "9000\n",
      "12000\n",
      "15000\n",
      "18000\n",
      "21000\n",
      "24000\n",
      "27000\n",
      "30000\n",
      "33000\n",
      "36000\n",
      "39000\n",
      "42000\n",
      "45000\n",
      "48000\n",
      "51000\n",
      "54000\n",
      "57000\n",
      "len di2 57398\n",
      "len di2Dic 36000\n",
      "Map to df\n"
     ]
    }
   ],
   "source": [
    "#di = pd.read_csv(path + \"DOB_Complaints__Illegal_Conversions from 1_2017.csv\",low_memory=False )\n",
    "#di = pd.read_csv(path + \"DOB_Complaints_Received_Illegal_Conversions.csv\",low_memory=False )\n",
    "pathb = \"C:\\\\Users\\\\dmehri\\\\Documents\\\\DATA\\\\Building Census\\\\Columbia Data\\\\\"\n",
    "\n",
    "di = pd.read_csv(pathb + \"DOB_Complaints_Received.csv\",low_memory=False )\n",
    "\n",
    "print \"len of all complaints\", len(di)\n",
    "\n",
    "di[\"Complaint Category\"] = di[\"Complaint Category\"].astype(str).map(str.strip)\n",
    "\n",
    "print \"get only illegal conversion complaints, 45, 31, 71\"\n",
    "\n",
    "illegconv = [\"45\", \"31\", \"71\"]\n",
    "\n",
    "di = di[di['Complaint Category'].isin(illegconv)].reset_index(drop=True)\n",
    "\n",
    "print \"len after getting only ics\", len(di)\n",
    "\n",
    "\n",
    "print \"get only tru complaints, drop I1, I2\"\n",
    "\n",
    "di[\"Disposition Code\"] = di[\"Disposition Code\"].astype(str).map(str.strip)\n",
    "\n",
    "ilist = [\"I1\", \"I2\"]\n",
    "\n",
    "di = di[~di['Disposition Code'].isin(ilist)].reset_index(drop=True)\n",
    "\n",
    "print \"len after drop I1, I2\", len(di)\n",
    "\n",
    "\n",
    "di['Date Entered'] = pd.to_datetime(di['Date Entered'])\n",
    "\n",
    "di[\"BIN\"] = di[\"BIN\"].astype(str).map(str.strip)\n",
    "\n",
    "di = di.sort_values(by = 'Date Entered', ascending=True).reset_index(drop=True)\n",
    "\n",
    "start_time = str(1) + '-' + str(1) + '-' + str(2017)\n",
    "mask = di['Date Entered'] >= start_time\n",
    "print \"len before drop\", len(di)\n",
    "di = di.loc[mask].reset_index(drop=True)\n",
    "print \"len after drop\", len(di)\n",
    "\n",
    "di = FinalComplaintDisposition(di)\n",
    "\n",
    "di2 = di[[\"BIN\"]]\n",
    "\n",
    "di2[\"Count\"] = 1\n",
    "print \"len di2\", len(di2)\n",
    "di2G = di2.groupby(['BIN']).sum()\n",
    "di2G = di2G.add_suffix('').reset_index()\n",
    "\n",
    "di2Dic =  di2G.set_index('BIN')['Count'].to_dict()\n",
    "print \"len di2Dic\", len(di2Dic)\n",
    "\n",
    "print \"Map to df\"\n",
    "\n",
    "df[\"#ICComplaints\"] = df[\"BIN\"].map(di2Dic)\n",
    "df[\"#ICComplaints\"] = df[\"#ICComplaints\"].fillna(0)\n",
    "\n"
   ]
  },
  {
   "cell_type": "code",
   "execution_count": 75,
   "metadata": {
    "collapsed": false
   },
   "outputs": [
    {
     "data": {
      "text/html": [
       "<div>\n",
       "<table border=\"1\" class=\"dataframe\">\n",
       "  <thead>\n",
       "    <tr style=\"text-align: right;\">\n",
       "      <th></th>\n",
       "      <th>BIN</th>\n",
       "      <th>BBL</th>\n",
       "      <th>NumberDigits</th>\n",
       "      <th>AreaCode</th>\n",
       "      <th>PhoneCode</th>\n",
       "      <th>Building Count</th>\n",
       "      <th>#ICComplaints</th>\n",
       "      <th>#ICVios</th>\n",
       "      <th>#ICNoAccess</th>\n",
       "      <th>NA</th>\n",
       "    </tr>\n",
       "  </thead>\n",
       "  <tbody>\n",
       "    <tr>\n",
       "      <th>0</th>\n",
       "      <td>1000005</td>\n",
       "      <td>1000047501</td>\n",
       "      <td>10</td>\n",
       "      <td>201</td>\n",
       "      <td>66088</td>\n",
       "      <td>1</td>\n",
       "      <td>0.0</td>\n",
       "      <td>0.0</td>\n",
       "      <td>0.0</td>\n",
       "      <td>1.0</td>\n",
       "    </tr>\n",
       "  </tbody>\n",
       "</table>\n",
       "</div>"
      ],
      "text/plain": [
       "       BIN         BBL  NumberDigits AreaCode PhoneCode  Building Count  \\\n",
       "0  1000005  1000047501            10      201     66088               1   \n",
       "\n",
       "   #ICComplaints  #ICVios  #ICNoAccess   NA  \n",
       "0            0.0      0.0          0.0  1.0  "
      ]
     },
     "execution_count": 75,
     "metadata": {},
     "output_type": "execute_result"
    }
   ],
   "source": [
    "df.head(1)"
   ]
  },
  {
   "cell_type": "markdown",
   "metadata": {},
   "source": [
    "Illegal Conversion Violations and No Access"
   ]
  },
  {
   "cell_type": "code",
   "execution_count": 83,
   "metadata": {
    "collapsed": false
   },
   "outputs": [
    {
     "name": "stdout",
     "output_type": "stream",
     "text": [
      "57398\n",
      "0\n",
      "8000\n",
      "16000\n",
      "24000\n",
      "32000\n",
      "40000\n",
      "48000\n",
      "56000\n",
      "\n",
      "total number of dispositions 57398\n",
      "number of violations 6752\n",
      "number no access 36958\n"
     ]
    }
   ],
   "source": [
    "pd.set_option('chained_assignment', None)\n",
    "\n",
    "\n",
    "dd = di.copy()\n",
    "\n",
    "print \"len of all complaints\", len(dd)\n",
    "\n",
    "\n",
    "dd2 = dd.copy()\n",
    "\n",
    "dd2 = dd2[[\"BIN\",\"Status\",\"Date Entered\", \"Disposition Code\"]]\n",
    "\n",
    "dd2[\"Disposition Code\"] = dd2[\"Disposition Code\"].astype(str).map(str.strip)\n",
    "\n",
    "#codeCount = dd2[[\"Disposition Code\"]]\n",
    "\n",
    "#codeCount['Disposition Code'] = codeCount['Disposition Code'].str.replace(' ', 'nan')\n",
    "#codes = set(dd2[\"Disposition Code\"].tolist())\n",
    "\n",
    "violist = [\"A1\", \"A2\", \"A3\", \"A4\", \"A5\", \"A6\", \"A7\", \"A8\", \"A9\",\n",
    "          \"B1\", \"B2\", \"H3\", \"H4\", \"H5\", \"L1\", \"L3\", \"Q1\", \"Q2\",\n",
    "          \"Q3\", \"Q4\", \"Q5\", \"RU\", \"W1\"]\n",
    "\n",
    "noaccess = [\"C1\", \"C2\", \"C3\", \"C4\", \"C5\", \"C6\", \"C7\", \"C8\"]\n",
    "\n",
    "#noncomplaint = [\"I1\", \"I2\"]\n",
    "\n",
    "#codeCount[\"Count\"] = 1\n",
    "#codeCount = codeCount.groupby(['Disposition Code']).sum()\n",
    "#codeCount = codeCount.add_suffix('').reset_index()\n",
    "\n",
    "print len(dd2)\n",
    "\n",
    "dd2[\"Violation\"] = 0\n",
    "dd2[\"No Access\"] = 0\n",
    "#dd2[\"Complaint Unsubstantiated\"] = 0\n",
    "count = 0\n",
    "countnoaccess = 0\n",
    "#countnoncomplaint = 0\n",
    "for i in range(0, len(dd2)):\n",
    "    if i%8000==0:\n",
    "        print i\n",
    "    if dd2[\"Disposition Code\"][i] in violist:\n",
    "        dd2[\"Violation\"][i] = 1\n",
    "        count+=1\n",
    "    if dd2[\"Disposition Code\"][i] in noaccess:\n",
    "        dd2[\"No Access\"][i] = 1\n",
    "        countnoaccess+=1\n",
    "    #if dd2[\"Disposition Code\"][i] in noncomplaint:\n",
    "    #    dd2[\"Complaint Unsubstantiated\"][i] = 1\n",
    "    #    countnoncomplaint+=1\n",
    "\n",
    "dd2G = dd2[[\"BIN\",\"Violation\", \"No Access\" ]]\n",
    "    \n",
    "dd2G = dd2G.groupby(['BIN']).sum()\n",
    "dd2G = dd2G.add_suffix('').reset_index()\n",
    "\n",
    "#dd2G = dd2G.sort_values(by = 'Violation', ascending=False).reset_index(drop=True)\n",
    "\n",
    "dd2DicVio = dd2G.set_index('BIN')['Violation'].to_dict()\n",
    "\n",
    "dd2DicNoAccess = dd2G.set_index('BIN')['No Access'].to_dict()\n",
    "\n",
    "df[\"#ICVios\"] = df[\"BIN\"].map(dd2DicVio)\n",
    "df[\"#ICVios\"] = df[\"#ICVios\"].fillna(0)\n",
    "\n",
    "df[\"#ICNoAccess\"] = df[\"BIN\"].map(dd2DicNoAccess)\n",
    "df[\"#ICNoAccess\"] = df[\"#ICNoAccess\"].fillna(0)\n",
    "\n",
    "print\n",
    "print \"total number of dispositions\", len(dd2)\n",
    "print \"number of violations\", count\n",
    "print \"number no access\", countnoaccess\n",
    "#print \"number non complaints\", countnoncomplaint\n",
    "    \n",
    "#codes\n",
    "\n"
   ]
  },
  {
   "cell_type": "code",
   "execution_count": 82,
   "metadata": {
    "collapsed": false
   },
   "outputs": [],
   "source": [
    "#di.to_csv(path + \"DOB_Complaints_Received_Final_Disposition.csv\", index=False)"
   ]
  },
  {
   "cell_type": "code",
   "execution_count": 84,
   "metadata": {
    "collapsed": true
   },
   "outputs": [],
   "source": [
    "df.to_csv(path + \"test.csv\", index=False)"
   ]
  },
  {
   "cell_type": "code",
   "execution_count": 34,
   "metadata": {
    "collapsed": false
   },
   "outputs": [
    {
     "data": {
      "text/plain": [
       "'C:\\\\Users\\\\dmehri\\\\Documents\\\\DATA\\\\Building Census\\\\Columbia Data\\\\illegal conv\\\\'"
      ]
     },
     "execution_count": 34,
     "metadata": {},
     "output_type": "execute_result"
    }
   ],
   "source": [
    "path"
   ]
  },
  {
   "cell_type": "code",
   "execution_count": null,
   "metadata": {
    "collapsed": false
   },
   "outputs": [],
   "source": [
    "#df.to_csv(path + \"test.csv\", index=False)"
   ]
  },
  {
   "cell_type": "markdown",
   "metadata": {},
   "source": [
    "HPD NOT AVAILABLE"
   ]
  },
  {
   "cell_type": "code",
   "execution_count": 85,
   "metadata": {
    "collapsed": false
   },
   "outputs": [
    {
     "name": "stdout",
     "output_type": "stream",
     "text": [
      "123129\n"
     ]
    }
   ],
   "source": [
    "pd.set_option('chained_assignment', None)\n",
    "\n",
    "dna = pd.read_csv(path + \"Comprehensive 1- 317K HPD List.csv\",low_memory=False )\n",
    "\n",
    "dna[\"BIN\"] = dna[\"BIN\"].astype(str).map(str.strip)\n",
    "dna[\"HPD Classifications\"] = dna[\"HPD Classifications\"].astype(str).map(str.strip).map(str.upper)\n",
    "\n",
    "na = dna[dna[\"HPD Classifications\"] == \"NOT AVAILABLE\"]\n",
    "\n",
    "print len(na)\n",
    "\n",
    "na[\"Count\"] = 1\n",
    "\n",
    "naDic =  na.set_index('BIN')['Count'].to_dict()\n",
    "\n",
    "df[\"NA\"] = df[\"BIN\"].map(naDic)\n",
    "df[\"NA\"] = df[\"NA\"].fillna(0)\n"
   ]
  },
  {
   "cell_type": "code",
   "execution_count": 36,
   "metadata": {
    "collapsed": false
   },
   "outputs": [
    {
     "data": {
      "text/html": [
       "<div>\n",
       "<table border=\"1\" class=\"dataframe\">\n",
       "  <thead>\n",
       "    <tr style=\"text-align: right;\">\n",
       "      <th></th>\n",
       "      <th>BIN</th>\n",
       "      <th>BBL</th>\n",
       "      <th>NumberDigits</th>\n",
       "      <th>AreaCode</th>\n",
       "      <th>PhoneCode</th>\n",
       "      <th>Building Count</th>\n",
       "      <th>#ICComplaints</th>\n",
       "      <th>#ICVios</th>\n",
       "      <th>#ICNoAccess</th>\n",
       "      <th>NA</th>\n",
       "    </tr>\n",
       "  </thead>\n",
       "  <tbody>\n",
       "    <tr>\n",
       "      <th>0</th>\n",
       "      <td>1000005</td>\n",
       "      <td>1000047501</td>\n",
       "      <td>10</td>\n",
       "      <td>201</td>\n",
       "      <td>66088</td>\n",
       "      <td>1</td>\n",
       "      <td>0.0</td>\n",
       "      <td>0.0</td>\n",
       "      <td>0.0</td>\n",
       "      <td>1.0</td>\n",
       "    </tr>\n",
       "    <tr>\n",
       "      <th>1</th>\n",
       "      <td>1000005</td>\n",
       "      <td>1000047501</td>\n",
       "      <td>10</td>\n",
       "      <td>201</td>\n",
       "      <td>345745</td>\n",
       "      <td>1</td>\n",
       "      <td>0.0</td>\n",
       "      <td>0.0</td>\n",
       "      <td>0.0</td>\n",
       "      <td>1.0</td>\n",
       "    </tr>\n",
       "    <tr>\n",
       "      <th>2</th>\n",
       "      <td>1000005</td>\n",
       "      <td>1000047501</td>\n",
       "      <td>10</td>\n",
       "      <td>201</td>\n",
       "      <td>117369</td>\n",
       "      <td>1</td>\n",
       "      <td>0.0</td>\n",
       "      <td>0.0</td>\n",
       "      <td>0.0</td>\n",
       "      <td>1.0</td>\n",
       "    </tr>\n",
       "  </tbody>\n",
       "</table>\n",
       "</div>"
      ],
      "text/plain": [
       "       BIN         BBL  NumberDigits AreaCode PhoneCode  Building Count  \\\n",
       "0  1000005  1000047501            10      201     66088               1   \n",
       "1  1000005  1000047501            10      201    345745               1   \n",
       "2  1000005  1000047501            10      201    117369               1   \n",
       "\n",
       "   #ICComplaints  #ICVios  #ICNoAccess   NA  \n",
       "0            0.0      0.0          0.0  1.0  \n",
       "1            0.0      0.0          0.0  1.0  \n",
       "2            0.0      0.0          0.0  1.0  "
      ]
     },
     "execution_count": 36,
     "metadata": {},
     "output_type": "execute_result"
    }
   ],
   "source": [
    "df.head(3)"
   ]
  },
  {
   "cell_type": "markdown",
   "metadata": {},
   "source": [
    "DEVELOP RISK ANALYTICS OR BUILDING OWNERS"
   ]
  },
  {
   "cell_type": "code",
   "execution_count": null,
   "metadata": {
    "collapsed": false
   },
   "outputs": [],
   "source": [
    "#df[\"IllegConv&NA\"] = 0\n",
    "#for i in range(0, len(df)):\n",
    "#    if (df[\"IllegConvComplaints\"][i] == 1 and df[\"NA\"][i] == 1):\n",
    "#        df[\"IllegConv&NA\"][i] = 1\n",
    "        "
   ]
  },
  {
   "cell_type": "code",
   "execution_count": 37,
   "metadata": {
    "collapsed": false
   },
   "outputs": [
    {
     "data": {
      "text/html": [
       "<div>\n",
       "<table border=\"1\" class=\"dataframe\">\n",
       "  <thead>\n",
       "    <tr style=\"text-align: right;\">\n",
       "      <th></th>\n",
       "      <th>BIN</th>\n",
       "      <th>BBL</th>\n",
       "      <th>NumberDigits</th>\n",
       "      <th>AreaCode</th>\n",
       "      <th>PhoneCode</th>\n",
       "      <th>Building Count</th>\n",
       "      <th>#ICComplaints</th>\n",
       "      <th>#ICVios</th>\n",
       "      <th>#ICNoAccess</th>\n",
       "      <th>NA</th>\n",
       "    </tr>\n",
       "  </thead>\n",
       "  <tbody>\n",
       "    <tr>\n",
       "      <th>0</th>\n",
       "      <td>1000005</td>\n",
       "      <td>1000047501</td>\n",
       "      <td>10</td>\n",
       "      <td>201</td>\n",
       "      <td>66088</td>\n",
       "      <td>1</td>\n",
       "      <td>0.0</td>\n",
       "      <td>0.0</td>\n",
       "      <td>0.0</td>\n",
       "      <td>1.0</td>\n",
       "    </tr>\n",
       "  </tbody>\n",
       "</table>\n",
       "</div>"
      ],
      "text/plain": [
       "       BIN         BBL  NumberDigits AreaCode PhoneCode  Building Count  \\\n",
       "0  1000005  1000047501            10      201     66088               1   \n",
       "\n",
       "   #ICComplaints  #ICVios  #ICNoAccess   NA  \n",
       "0            0.0      0.0          0.0  1.0  "
      ]
     },
     "execution_count": 37,
     "metadata": {},
     "output_type": "execute_result"
    }
   ],
   "source": [
    "df.head(1)"
   ]
  },
  {
   "cell_type": "markdown",
   "metadata": {},
   "source": [
    "GROUPBY AT THE PHONE CODE LEVEL"
   ]
  },
  {
   "cell_type": "code",
   "execution_count": 90,
   "metadata": {
    "collapsed": false
   },
   "outputs": [
    {
     "data": {
      "text/plain": [
       "'\\ndf2[\"%IllegConvComplaints\"] = (df2[\"IllegConvComplaints\"]/df2[\"Building Count\"] )*100\\n\\ndf2[\"%IllegConvVios\"] = (df2[\"IllegConvVios\"]/df2[\"Building Count\"] )*100\\n\\ndf2[\"%NA\"] = (df2[\"NA\"]/df2[\"Building Count\"] )*100\\n#df2[\"%IllegConv&NA\"] = (df2[\"IllegConv&NA\"]/df2[\"Building Count\"] ) *100\\n\\ndf2[\"%IllegConvComplaints\"] = df2[\"%IllegConvComplaints\"].round(1)\\ndf2[\"%IllegConvVios\"] = df2[\"%IllegConvVios\"].round(1)\\ndf2[\"%NA\"] = df2[\"%NA\"].round(1)\\n#df2[\"%IllegConv&NA\"] = df2[\"%IllegConv&NA\"].round(1)\\n\\n'"
      ]
     },
     "execution_count": 90,
     "metadata": {},
     "output_type": "execute_result"
    }
   ],
   "source": [
    "df2 = df[[\"PhoneCode\", \"Building Count\", \"#ICComplaints\",\"#ICVios\",  \n",
    "          \"#ICNoAccess\",  \"NA\"]]\n",
    "\n",
    "\n",
    "df2 = df2.groupby(['PhoneCode']).sum()\n",
    "\n",
    "df2 = df2.add_suffix('').reset_index()\n",
    "\n",
    "df2 = df2.sort_values(by = 'Building Count', ascending=False).reset_index(drop=True)\n",
    "\n",
    "df2[\"#ICComplaintsNoAccess\"] = df2[\"#ICComplaints\"] + df2[\"#ICNoAccess\"]\n",
    "\n",
    "\"\"\"\n",
    "df2[\"%IllegConvComplaints\"] = (df2[\"IllegConvComplaints\"]/df2[\"Building Count\"] )*100\n",
    "\n",
    "df2[\"%IllegConvVios\"] = (df2[\"IllegConvVios\"]/df2[\"Building Count\"] )*100\n",
    "\n",
    "df2[\"%NA\"] = (df2[\"NA\"]/df2[\"Building Count\"] )*100\n",
    "#df2[\"%IllegConv&NA\"] = (df2[\"IllegConv&NA\"]/df2[\"Building Count\"] ) *100\n",
    "\n",
    "df2[\"%IllegConvComplaints\"] = df2[\"%IllegConvComplaints\"].round(1)\n",
    "df2[\"%IllegConvVios\"] = df2[\"%IllegConvVios\"].round(1)\n",
    "df2[\"%NA\"] = df2[\"%NA\"].round(1)\n",
    "#df2[\"%IllegConv&NA\"] = df2[\"%IllegConv&NA\"].round(1)\n",
    "\n",
    "\"\"\""
   ]
  },
  {
   "cell_type": "code",
   "execution_count": 92,
   "metadata": {
    "collapsed": false
   },
   "outputs": [
    {
     "data": {
      "text/plain": [
       "'C:\\\\Users\\\\dmehri\\\\Documents\\\\DATA\\\\Building Census\\\\Columbia Data\\\\illegal conv\\\\'"
      ]
     },
     "execution_count": 92,
     "metadata": {},
     "output_type": "execute_result"
    }
   ],
   "source": [
    "path"
   ]
  },
  {
   "cell_type": "code",
   "execution_count": 93,
   "metadata": {
    "collapsed": true
   },
   "outputs": [],
   "source": [
    "df2.to_csv(path + \"test.csv\", index=False)"
   ]
  },
  {
   "cell_type": "markdown",
   "metadata": {},
   "source": [
    "Count Number of Unique Owners Who Own More than 1 Building"
   ]
  },
  {
   "cell_type": "code",
   "execution_count": null,
   "metadata": {
    "collapsed": false
   },
   "outputs": [],
   "source": [
    "dfunique = df2[df2[\"Building Count\"] > 1]\n",
    "\n",
    "uniqPhoneCode = set(dfunique[\"PhoneCode\"].tolist())\n",
    "\n",
    "print len(uniqPhoneCode)\n"
   ]
  },
  {
   "cell_type": "code",
   "execution_count": null,
   "metadata": {
    "collapsed": false
   },
   "outputs": [],
   "source": [
    "df2.head(1)"
   ]
  },
  {
   "cell_type": "code",
   "execution_count": null,
   "metadata": {
    "collapsed": false
   },
   "outputs": [],
   "source": [
    "df2.head(1)"
   ]
  },
  {
   "cell_type": "code",
   "execution_count": 94,
   "metadata": {
    "collapsed": false
   },
   "outputs": [
    {
     "name": "stdout",
     "output_type": "stream",
     "text": [
      "Only include owners who own 5 building or more\n",
      "len before drop 244132\n",
      "len after drop 10717\n",
      "create a categorical variable for building count\n"
     ]
    }
   ],
   "source": [
    "#print \"Outputing data\"\n",
    "\n",
    "print \"Only include owners who own 5 building or more\"\n",
    "print \"len before drop\", len(df2)\n",
    "df3 = df2[df2[\"Building Count\"] >= 5].reset_index(drop=True)\n",
    "print \"len after drop\", len(df3)\n",
    "\n",
    "print \"create a categorical variable for building count\"\n",
    "\n",
    "df3[\"Building Count Category\"] = \"\"\n",
    "\n",
    "for i in range(0, len(df3)):\n",
    "    if df3[\"Building Count\"][i] <= 10:\n",
    "        df3[\"Building Count Category\"][i] = \"5_10\"\n",
    "    if (df3[\"Building Count\"][i] > 10 and df3[\"Building Count\"][i] <= 20):\n",
    "        df3[\"Building Count Category\"][i] = \"11_20\"\n",
    "    if (df3[\"Building Count\"][i] > 20 and df3[\"Building Count\"][i] <= 30):\n",
    "        df3[\"Building Count Category\"][i] = \"21_30\"\n",
    "    if (df3[\"Building Count\"][i] > 30 and df3[\"Building Count\"][i] <= 40):\n",
    "        df3[\"Building Count Category\"][i] = \"31_40\"\n",
    "    if (df3[\"Building Count\"][i] > 40 and df3[\"Building Count\"][i] <= 50):\n",
    "        df3[\"Building Count Category\"][i] = \"41_50\"\n",
    "    if (df3[\"Building Count\"][i] > 50 and df3[\"Building Count\"][i] <= 60):\n",
    "        df3[\"Building Count Category\"][i] = \"51_60\"\n",
    "    if (df3[\"Building Count\"][i] > 60 and df3[\"Building Count\"][i] <= 70):\n",
    "        df3[\"Building Count Category\"][i] = \"61_70\"\n",
    "    if (df3[\"Building Count\"][i] > 70 and df3[\"Building Count\"][i] <= 80):\n",
    "        df3[\"Building Count Category\"][i] = \"71_80\"\n",
    "    if (df3[\"Building Count\"][i] > 80 and df3[\"Building Count\"][i] <= 90):\n",
    "        df3[\"Building Count Category\"][i] = \"81_90\"\n",
    "    if (df3[\"Building Count\"][i] > 90 and df3[\"Building Count\"][i] <= 100):\n",
    "        df3[\"Building Count Category\"][i] = \"91_100\"\n",
    "    if (df3[\"Building Count\"][i] > 100):\n",
    "        df3[\"Building Count Category\"][i] = \">100\"\n",
    "    \n"
   ]
  },
  {
   "cell_type": "code",
   "execution_count": 95,
   "metadata": {
    "collapsed": false
   },
   "outputs": [
    {
     "data": {
      "text/html": [
       "<div>\n",
       "<table border=\"1\" class=\"dataframe\">\n",
       "  <thead>\n",
       "    <tr style=\"text-align: right;\">\n",
       "      <th></th>\n",
       "      <th>PhoneCode</th>\n",
       "      <th>Building Count</th>\n",
       "      <th>#ICComplaints</th>\n",
       "      <th>#ICVios</th>\n",
       "      <th>#ICNoAccess</th>\n",
       "      <th>NA</th>\n",
       "      <th>#ICComplaintsNoAccess</th>\n",
       "      <th>Building Count Category</th>\n",
       "    </tr>\n",
       "  </thead>\n",
       "  <tbody>\n",
       "    <tr>\n",
       "      <th>0</th>\n",
       "      <td>162639</td>\n",
       "      <td>2247</td>\n",
       "      <td>194.0</td>\n",
       "      <td>49.0</td>\n",
       "      <td>56.0</td>\n",
       "      <td>362.0</td>\n",
       "      <td>250.0</td>\n",
       "      <td>&gt;100</td>\n",
       "    </tr>\n",
       "  </tbody>\n",
       "</table>\n",
       "</div>"
      ],
      "text/plain": [
       "  PhoneCode  Building Count  #ICComplaints  #ICVios  #ICNoAccess     NA  \\\n",
       "0    162639            2247          194.0     49.0         56.0  362.0   \n",
       "\n",
       "   #ICComplaintsNoAccess Building Count Category  \n",
       "0                  250.0                    >100  "
      ]
     },
     "execution_count": 95,
     "metadata": {},
     "output_type": "execute_result"
    }
   ],
   "source": [
    "df3.head(1)"
   ]
  },
  {
   "cell_type": "markdown",
   "metadata": {},
   "source": [
    "DEVELOP RISK SCORE FOR ILLEGAL CONVERSION COMPLAINTS"
   ]
  },
  {
   "cell_type": "code",
   "execution_count": 97,
   "metadata": {
    "collapsed": false
   },
   "outputs": [
    {
     "name": "stdout",
     "output_type": "stream",
     "text": [
      "calculate ln of building count\n"
     ]
    }
   ],
   "source": [
    "#N = np.log(np.exp(1000) )\n",
    "#print N\n",
    "\n",
    "print \"calculate ln of building count\"\n",
    "\n",
    "df3[\"ln_build_count\"] = 0.0\n",
    "\n",
    "df3[\"Risk Score IllegConv Complaints\"] = 0.0\n",
    "\n",
    "df3[\"Risk Category IllegConv Complaints\"] = \"\"\n",
    "\n",
    "#df3[\"ln_build_count\"] = df3[\"Building Count\"].log()\n",
    "\n",
    "for i in range(0, len(df3)):\n",
    "    #print df3[\"Building Count\"][i]\n",
    "    df3[\"ln_build_count\"][i] = np.log(df3[\"Building Count\"][i])\n",
    "    \n",
    "    ln_bc = df3[\"ln_build_count\"][i]\n",
    "    \n",
    "    df3[\"Risk Score IllegConv Complaints\"][i] = df3[\"#ICComplaints\"][i]/(ln_bc**2)\n",
    "    \n",
    "    if df3[\"Risk Score IllegConv Complaints\"][i] > 1:\n",
    "        df3[\"Risk Score IllegConv Complaints\"][i] = 1\n",
    "    \n",
    "    df3[\"Risk Score IllegConv Complaints\"][i] = (df3[\"Risk Score IllegConv Complaints\"][i]*10).round(0)\n",
    "    \n",
    "    if df3[\"Risk Score IllegConv Complaints\"][i] >= 8:\n",
    "        df3[\"Risk Category IllegConv Complaints\"][i] = \"HIGH\"\n",
    "        \n",
    "    elif (df3[\"Risk Score IllegConv Complaints\"][i] >= 5 and df3[\"Risk Score IllegConv Complaints\"][i] < 8):\n",
    "        df3[\"Risk Category IllegConv Complaints\"][i] = \"MEDIUM\"\n",
    "\n",
    "    else:\n",
    "        df3[\"Risk Category IllegConv Complaints\"][i] = \"LOW\"\n",
    "\n",
    "\n",
    "df3[\"Risk Score IllegConv Complaints\"] = df3[\"Risk Score IllegConv Complaints\"].astype(int)\n"
   ]
  },
  {
   "cell_type": "code",
   "execution_count": 98,
   "metadata": {
    "collapsed": false
   },
   "outputs": [
    {
     "data": {
      "text/plain": [
       "PhoneCode                              object\n",
       "Building Count                          int64\n",
       "#ICComplaints                         float64\n",
       "#ICVios                               float64\n",
       "#ICNoAccess                           float64\n",
       "NA                                    float64\n",
       "#ICComplaintsNoAccess                 float64\n",
       "Building Count Category                object\n",
       "ln_build_count                        float64\n",
       "Risk Score IllegConv Complaints         int32\n",
       "Risk Category IllegConv Complaints     object\n",
       "dtype: object"
      ]
     },
     "execution_count": 98,
     "metadata": {},
     "output_type": "execute_result"
    }
   ],
   "source": [
    "df3.dtypes"
   ]
  },
  {
   "cell_type": "markdown",
   "metadata": {},
   "source": [
    "RISK SOCRE FOR ILLEGAL CONVERSION VIOLATIONS"
   ]
  },
  {
   "cell_type": "code",
   "execution_count": 99,
   "metadata": {
    "collapsed": true
   },
   "outputs": [],
   "source": [
    "\n",
    "df3[\"Risk Score IllegConv Violations\"] = 0.0\n",
    "\n",
    "df3[\"Risk Category IllegConv Violations\"] = \"\"\n",
    "\n",
    "#df3[\"ln_build_count\"] = df3[\"Building Count\"].log()\n",
    "\n",
    "for i in range(0, len(df3)):\n",
    "    #print df3[\"Building Count\"][i]\n",
    "    \n",
    "    ln_bc = df3[\"ln_build_count\"][i]\n",
    "    \n",
    "    df3[\"Risk Score IllegConv Violations\"][i] = df3[\"#ICVios\"][i]/(ln_bc**2)\n",
    "    \n",
    "    if df3[\"Risk Score IllegConv Violations\"][i] > 1:\n",
    "        df3[\"Risk Score IllegConv Violations\"][i] = 1\n",
    "    \n",
    "    df3[\"Risk Score IllegConv Violations\"][i] = (df3[\"Risk Score IllegConv Violations\"][i]*10).round(0)\n",
    "    \n",
    "    if df3[\"Risk Score IllegConv Violations\"][i] >= 8:\n",
    "        df3[\"Risk Category IllegConv Violations\"][i] = \"HIGH\"\n",
    "        \n",
    "    elif (df3[\"Risk Score IllegConv Violations\"][i] >= 5 and df3[\"Risk Score IllegConv Violations\"][i] < 8):\n",
    "        df3[\"Risk Category IllegConv Violations\"][i] = \"MEDIUM\"\n",
    "\n",
    "    else:\n",
    "        df3[\"Risk Category IllegConv Violations\"][i] = \"LOW\"\n",
    "\n",
    "\n",
    "df3[\"Risk Score IllegConv Violations\"] = df3[\"Risk Score IllegConv Violations\"].astype(int)\n"
   ]
  },
  {
   "cell_type": "code",
   "execution_count": null,
   "metadata": {
    "collapsed": false
   },
   "outputs": [],
   "source": [
    "#df3.to_csv(path + \"IllegConv Ownership Risk Score.csv\", index=False)"
   ]
  },
  {
   "cell_type": "code",
   "execution_count": 100,
   "metadata": {
    "collapsed": false
   },
   "outputs": [
    {
     "data": {
      "text/html": [
       "<div>\n",
       "<table border=\"1\" class=\"dataframe\">\n",
       "  <thead>\n",
       "    <tr style=\"text-align: right;\">\n",
       "      <th></th>\n",
       "      <th>PhoneCode</th>\n",
       "      <th>Building Count</th>\n",
       "      <th>#ICComplaints</th>\n",
       "      <th>#ICVios</th>\n",
       "      <th>#ICNoAccess</th>\n",
       "      <th>NA</th>\n",
       "      <th>#ICComplaintsNoAccess</th>\n",
       "      <th>Building Count Category</th>\n",
       "      <th>ln_build_count</th>\n",
       "      <th>Risk Score IllegConv Complaints</th>\n",
       "      <th>Risk Category IllegConv Complaints</th>\n",
       "      <th>Risk Score IllegConv Violations</th>\n",
       "      <th>Risk Category IllegConv Violations</th>\n",
       "    </tr>\n",
       "  </thead>\n",
       "  <tbody>\n",
       "    <tr>\n",
       "      <th>0</th>\n",
       "      <td>162639</td>\n",
       "      <td>2247</td>\n",
       "      <td>194.0</td>\n",
       "      <td>49.0</td>\n",
       "      <td>56.0</td>\n",
       "      <td>362.0</td>\n",
       "      <td>250.0</td>\n",
       "      <td>&gt;100</td>\n",
       "      <td>7.717351</td>\n",
       "      <td>10</td>\n",
       "      <td>HIGH</td>\n",
       "      <td>8</td>\n",
       "      <td>HIGH</td>\n",
       "    </tr>\n",
       "  </tbody>\n",
       "</table>\n",
       "</div>"
      ],
      "text/plain": [
       "  PhoneCode  Building Count  #ICComplaints  #ICVios  #ICNoAccess     NA  \\\n",
       "0    162639            2247          194.0     49.0         56.0  362.0   \n",
       "\n",
       "   #ICComplaintsNoAccess Building Count Category  ln_build_count  \\\n",
       "0                  250.0                    >100        7.717351   \n",
       "\n",
       "   Risk Score IllegConv Complaints Risk Category IllegConv Complaints  \\\n",
       "0                               10                               HIGH   \n",
       "\n",
       "   Risk Score IllegConv Violations Risk Category IllegConv Violations  \n",
       "0                                8                               HIGH  "
      ]
     },
     "execution_count": 100,
     "metadata": {},
     "output_type": "execute_result"
    }
   ],
   "source": [
    "df3.head(1)"
   ]
  },
  {
   "cell_type": "markdown",
   "metadata": {},
   "source": [
    "Count Number of High Risk Illegal Conversion by Building Count Category"
   ]
  },
  {
   "cell_type": "code",
   "execution_count": null,
   "metadata": {
    "collapsed": false
   },
   "outputs": [],
   "source": [
    "\"\"\"\n",
    "buildCountCat = df3[df3[\"Risk Score IllegConv\"] > 7]\n",
    "\n",
    "buildCountCat = buildCountCat[[\"Building Count Category\"]]\n",
    "buildCountCat[\"Count\"] = 1\n",
    "buildCountCat=buildCountCat.groupby('Building Count Category').sum()\n",
    "buildCountCat = buildCountCat.add_suffix('').reset_index()\n",
    "buildCountCat = buildCountCat.sort_values(by = 'Count', ascending=False).reset_index(drop=True)\n",
    "\n",
    "buildCountCat\n",
    "\"\"\"\n"
   ]
  },
  {
   "cell_type": "markdown",
   "metadata": {},
   "source": [
    "RISK SCORE FOR NAs"
   ]
  },
  {
   "cell_type": "code",
   "execution_count": 101,
   "metadata": {
    "collapsed": false
   },
   "outputs": [
    {
     "name": "stderr",
     "output_type": "stream",
     "text": [
      "C:\\ProgramData\\Anaconda2\\lib\\site-packages\\ipykernel\\__main__.py:1: RuntimeWarning: overflow encountered in exp\n",
      "  if __name__ == '__main__':\n"
     ]
    },
    {
     "name": "stdout",
     "output_type": "stream",
     "text": [
      "Calculate Risk Scores for NAs\n"
     ]
    }
   ],
   "source": [
    "N = np.log(np.exp(1000) )\n",
    "#print N\n",
    "\n",
    "print \"Calculate Risk Scores for NAs\"\n",
    "\n",
    "\n",
    "df3[\"Risk Score NA\"] = 0.0\n",
    "\n",
    "df3[\"Risk Category NA\"] = \"\"\n",
    "\n",
    "#df3[\"ln_build_count\"] = df3[\"Building Count\"].log()\n",
    "\n",
    "for i in range(0, len(df3)):\n",
    "    #print df3[\"Building Count\"][i]\n",
    "    #df3[\"ln_build_count\"][i] = np.log(df3[\"Building Count\"][i])\n",
    "    \n",
    "    ln_bc = df3[\"ln_build_count\"][i]\n",
    "    \n",
    "    df3[\"Risk Score NA\"][i] = df3[\"NA\"][i]/(ln_bc**2)\n",
    "    \n",
    "    if df3[\"Risk Score NA\"][i] > 1:\n",
    "        df3[\"Risk Score NA\"][i] = 1\n",
    "    \n",
    "    df3[\"Risk Score NA\"][i] = (df3[\"Risk Score NA\"][i]*10).round(0)\n",
    "    \n",
    "    if df3[\"Risk Score NA\"][i] >= 8:\n",
    "        df3[\"Risk Category NA\"][i] = \"HIGH\"\n",
    "        \n",
    "    elif (df3[\"Risk Score NA\"][i] >= 5 and df3[\"Risk Score NA\"][i] < 8):\n",
    "        df3[\"Risk Category NA\"][i] = \"MEDIUM\"\n",
    "\n",
    "    else:\n",
    "        df3[\"Risk Category NA\"][i] = \"LOW\"\n",
    "\n",
    "\n",
    "df3[\"Risk Score NA\"] = df3[\"Risk Score NA\"].astype(int)"
   ]
  },
  {
   "cell_type": "code",
   "execution_count": 103,
   "metadata": {
    "collapsed": false
   },
   "outputs": [
    {
     "data": {
      "text/plain": [
       "PhoneCode                              object\n",
       "Building Count                          int64\n",
       "#ICComplaints                         float64\n",
       "#ICVios                               float64\n",
       "#ICNoAccess                           float64\n",
       "NA                                    float64\n",
       "#ICComplaintsNoAccess                 float64\n",
       "Building Count Category                object\n",
       "ln_build_count                        float64\n",
       "Risk Score IllegConv Complaints         int32\n",
       "Risk Category IllegConv Complaints     object\n",
       "Risk Score IllegConv Violations         int32\n",
       "Risk Category IllegConv Violations     object\n",
       "Risk Score NA                           int32\n",
       "Risk Category NA                       object\n",
       "dtype: object"
      ]
     },
     "execution_count": 103,
     "metadata": {},
     "output_type": "execute_result"
    }
   ],
   "source": [
    "df3.dtypes"
   ]
  },
  {
   "cell_type": "markdown",
   "metadata": {},
   "source": [
    "RISK SCORE COMPLAINTS AND NO ACCESS"
   ]
  },
  {
   "cell_type": "code",
   "execution_count": 105,
   "metadata": {
    "collapsed": false
   },
   "outputs": [
    {
     "name": "stdout",
     "output_type": "stream",
     "text": [
      "Calculate Risk Scores for Complaint/No Access\n"
     ]
    }
   ],
   "source": [
    "print \"Calculate Risk Scores for Complaint/No Access\"\n",
    "\n",
    "df3[\"Risk Score CompNoAccess\"] = 0.0\n",
    "\n",
    "df3[\"Risk Category CompNoAccess\"] = \"\"\n",
    "\n",
    "#df3[\"ln_build_count\"] = df3[\"Building Count\"].log()\n",
    "\n",
    "for i in range(0, len(df3)):\n",
    "    #print df3[\"Building Count\"][i]\n",
    "    #df3[\"ln_build_count\"][i] = np.log(df3[\"Building Count\"][i])\n",
    "    \n",
    "    ln_bc = df3[\"ln_build_count\"][i]\n",
    "    \n",
    "    df3[\"Risk Score CompNoAccess\"][i] = df3[\"#ICComplaintsNoAccess\"][i]/(ln_bc**2)\n",
    "    \n",
    "    if df3[\"Risk Score CompNoAccess\"][i] > 1:\n",
    "        df3[\"Risk Score CompNoAccess\"][i] = 1\n",
    "    \n",
    "    df3[\"Risk Score CompNoAccess\"][i] = (df3[\"Risk Score CompNoAccess\"][i]*10).round(0)\n",
    "    \n",
    "    if df3[\"Risk Score CompNoAccess\"][i] >= 8:\n",
    "        df3[\"Risk Category CompNoAccess\"][i] = \"HIGH\"\n",
    "        \n",
    "    elif (df3[\"Risk Score CompNoAccess\"][i] >= 5 and df3[\"Risk Score CompNoAccess\"][i] < 8):\n",
    "        df3[\"Risk Category CompNoAccess\"][i] = \"MEDIUM\"\n",
    "\n",
    "    else:\n",
    "        df3[\"Risk Category CompNoAccess\"][i] = \"LOW\"\n",
    "\n",
    "\n",
    "df3[\"Risk Score CompNoAccess\"] = df3[\"Risk Score CompNoAccess\"].astype(int)"
   ]
  },
  {
   "cell_type": "code",
   "execution_count": 107,
   "metadata": {
    "collapsed": true
   },
   "outputs": [],
   "source": [
    "df3.to_csv(path + \"test.csv\", index=False)"
   ]
  },
  {
   "cell_type": "code",
   "execution_count": 106,
   "metadata": {
    "collapsed": false
   },
   "outputs": [
    {
     "data": {
      "text/html": [
       "<div>\n",
       "<table border=\"1\" class=\"dataframe\">\n",
       "  <thead>\n",
       "    <tr style=\"text-align: right;\">\n",
       "      <th></th>\n",
       "      <th>PhoneCode</th>\n",
       "      <th>Building Count</th>\n",
       "      <th>#ICComplaints</th>\n",
       "      <th>#ICVios</th>\n",
       "      <th>#ICNoAccess</th>\n",
       "      <th>NA</th>\n",
       "      <th>#ICComplaintsNoAccess</th>\n",
       "      <th>Building Count Category</th>\n",
       "      <th>ln_build_count</th>\n",
       "      <th>Risk Score IllegConv Complaints</th>\n",
       "      <th>Risk Category IllegConv Complaints</th>\n",
       "      <th>Risk Score IllegConv Violations</th>\n",
       "      <th>Risk Category IllegConv Violations</th>\n",
       "      <th>Risk Score NA</th>\n",
       "      <th>Risk Category NA</th>\n",
       "      <th>Risk Score CompNoAccess</th>\n",
       "      <th>Risk Category CompNoAccess</th>\n",
       "    </tr>\n",
       "  </thead>\n",
       "  <tbody>\n",
       "    <tr>\n",
       "      <th>0</th>\n",
       "      <td>162639</td>\n",
       "      <td>2247</td>\n",
       "      <td>194.0</td>\n",
       "      <td>49.0</td>\n",
       "      <td>56.0</td>\n",
       "      <td>362.0</td>\n",
       "      <td>250.0</td>\n",
       "      <td>&gt;100</td>\n",
       "      <td>7.717351</td>\n",
       "      <td>10</td>\n",
       "      <td>HIGH</td>\n",
       "      <td>8</td>\n",
       "      <td>HIGH</td>\n",
       "      <td>10</td>\n",
       "      <td>HIGH</td>\n",
       "      <td>10</td>\n",
       "      <td>HIGH</td>\n",
       "    </tr>\n",
       "  </tbody>\n",
       "</table>\n",
       "</div>"
      ],
      "text/plain": [
       "  PhoneCode  Building Count  #ICComplaints  #ICVios  #ICNoAccess     NA  \\\n",
       "0    162639            2247          194.0     49.0         56.0  362.0   \n",
       "\n",
       "   #ICComplaintsNoAccess Building Count Category  ln_build_count  \\\n",
       "0                  250.0                    >100        7.717351   \n",
       "\n",
       "   Risk Score IllegConv Complaints Risk Category IllegConv Complaints  \\\n",
       "0                               10                               HIGH   \n",
       "\n",
       "   Risk Score IllegConv Violations Risk Category IllegConv Violations  \\\n",
       "0                                8                               HIGH   \n",
       "\n",
       "   Risk Score NA Risk Category NA  Risk Score CompNoAccess  \\\n",
       "0             10             HIGH                       10   \n",
       "\n",
       "  Risk Category CompNoAccess  \n",
       "0                       HIGH  "
      ]
     },
     "execution_count": 106,
     "metadata": {},
     "output_type": "execute_result"
    }
   ],
   "source": [
    "df3.head(1)"
   ]
  },
  {
   "cell_type": "markdown",
   "metadata": {},
   "source": [
    "### FINAL HIGH RISK SCORE"
   ]
  },
  {
   "cell_type": "code",
   "execution_count": 108,
   "metadata": {
    "collapsed": false
   },
   "outputs": [
    {
     "data": {
      "text/plain": [
       "PhoneCode                              object\n",
       "Building Count                          int64\n",
       "#ICComplaints                         float64\n",
       "#ICVios                               float64\n",
       "#ICNoAccess                           float64\n",
       "NA                                    float64\n",
       "#ICComplaintsNoAccess                 float64\n",
       "Building Count Category                object\n",
       "ln_build_count                        float64\n",
       "Risk Score IllegConv Complaints         int32\n",
       "Risk Category IllegConv Complaints     object\n",
       "Risk Score IllegConv Violations         int32\n",
       "Risk Category IllegConv Violations     object\n",
       "Risk Score NA                           int32\n",
       "Risk Category NA                       object\n",
       "Risk Score CompNoAccess                 int32\n",
       "Risk Category CompNoAccess             object\n",
       "dtype: object"
      ]
     },
     "execution_count": 108,
     "metadata": {},
     "output_type": "execute_result"
    }
   ],
   "source": [
    "df3.dtypes"
   ]
  },
  {
   "cell_type": "code",
   "execution_count": 109,
   "metadata": {
    "collapsed": true
   },
   "outputs": [],
   "source": [
    "df3[\"Final Score\"] = (1.3*df3[\"Risk Score CompNoAccess\"] + \n",
    "                      0.7*df3[\"Risk Score NA\"])\n",
    "\n",
    "df3[\"Final Score\"] = (df3[\"Final Score\"]/20.0)*10\n",
    "\n",
    "df3[\"Final Risk Category\"] = \"\"\n",
    "\n",
    "for i in range(0, len(df3)):\n",
    "    if df3[\"Final Score\"][i] >= 8:\n",
    "        df3[\"Final Risk Category\"][i] = \"HIGH\"\n",
    "    elif df3[\"Final Score\"][i] < 5:\n",
    "        df3[\"Final Risk Category\"][i] = \"LOW\"\n",
    "    else:\n",
    "        df3[\"Final Risk Category\"][i] = \"MEDIUM\"\n",
    "       \n",
    "\n",
    "                      \n"
   ]
  },
  {
   "cell_type": "code",
   "execution_count": null,
   "metadata": {
    "collapsed": false
   },
   "outputs": [],
   "source": [
    "len(df3)"
   ]
  },
  {
   "cell_type": "code",
   "execution_count": 110,
   "metadata": {
    "collapsed": false
   },
   "outputs": [
    {
     "data": {
      "text/html": [
       "<div>\n",
       "<table border=\"1\" class=\"dataframe\">\n",
       "  <thead>\n",
       "    <tr style=\"text-align: right;\">\n",
       "      <th></th>\n",
       "      <th>PhoneCode</th>\n",
       "      <th>Building Count</th>\n",
       "      <th>#ICComplaints</th>\n",
       "      <th>#ICVios</th>\n",
       "      <th>#ICNoAccess</th>\n",
       "      <th>NA</th>\n",
       "      <th>#ICComplaintsNoAccess</th>\n",
       "      <th>Building Count Category</th>\n",
       "      <th>ln_build_count</th>\n",
       "      <th>Risk Score IllegConv Complaints</th>\n",
       "      <th>Risk Category IllegConv Complaints</th>\n",
       "      <th>Risk Score IllegConv Violations</th>\n",
       "      <th>Risk Category IllegConv Violations</th>\n",
       "      <th>Risk Score NA</th>\n",
       "      <th>Risk Category NA</th>\n",
       "      <th>Risk Score CompNoAccess</th>\n",
       "      <th>Risk Category CompNoAccess</th>\n",
       "      <th>Final Score</th>\n",
       "      <th>Final Risk Category</th>\n",
       "    </tr>\n",
       "  </thead>\n",
       "  <tbody>\n",
       "    <tr>\n",
       "      <th>0</th>\n",
       "      <td>162639</td>\n",
       "      <td>2247</td>\n",
       "      <td>194.0</td>\n",
       "      <td>49.0</td>\n",
       "      <td>56.0</td>\n",
       "      <td>362.0</td>\n",
       "      <td>250.0</td>\n",
       "      <td>&gt;100</td>\n",
       "      <td>7.717351</td>\n",
       "      <td>10</td>\n",
       "      <td>HIGH</td>\n",
       "      <td>8</td>\n",
       "      <td>HIGH</td>\n",
       "      <td>10</td>\n",
       "      <td>HIGH</td>\n",
       "      <td>10</td>\n",
       "      <td>HIGH</td>\n",
       "      <td>10.0</td>\n",
       "      <td>HIGH</td>\n",
       "    </tr>\n",
       "    <tr>\n",
       "      <th>1</th>\n",
       "      <td>262705</td>\n",
       "      <td>2028</td>\n",
       "      <td>149.0</td>\n",
       "      <td>30.0</td>\n",
       "      <td>78.0</td>\n",
       "      <td>304.0</td>\n",
       "      <td>227.0</td>\n",
       "      <td>&gt;100</td>\n",
       "      <td>7.614805</td>\n",
       "      <td>10</td>\n",
       "      <td>HIGH</td>\n",
       "      <td>5</td>\n",
       "      <td>MEDIUM</td>\n",
       "      <td>10</td>\n",
       "      <td>HIGH</td>\n",
       "      <td>10</td>\n",
       "      <td>HIGH</td>\n",
       "      <td>10.0</td>\n",
       "      <td>HIGH</td>\n",
       "    </tr>\n",
       "    <tr>\n",
       "      <th>2</th>\n",
       "      <td>438887</td>\n",
       "      <td>1804</td>\n",
       "      <td>130.0</td>\n",
       "      <td>31.0</td>\n",
       "      <td>43.0</td>\n",
       "      <td>281.0</td>\n",
       "      <td>173.0</td>\n",
       "      <td>&gt;100</td>\n",
       "      <td>7.497762</td>\n",
       "      <td>10</td>\n",
       "      <td>HIGH</td>\n",
       "      <td>6</td>\n",
       "      <td>MEDIUM</td>\n",
       "      <td>10</td>\n",
       "      <td>HIGH</td>\n",
       "      <td>10</td>\n",
       "      <td>HIGH</td>\n",
       "      <td>10.0</td>\n",
       "      <td>HIGH</td>\n",
       "    </tr>\n",
       "    <tr>\n",
       "      <th>3</th>\n",
       "      <td>20767</td>\n",
       "      <td>1498</td>\n",
       "      <td>45.0</td>\n",
       "      <td>8.0</td>\n",
       "      <td>17.0</td>\n",
       "      <td>128.0</td>\n",
       "      <td>62.0</td>\n",
       "      <td>&gt;100</td>\n",
       "      <td>7.311886</td>\n",
       "      <td>8</td>\n",
       "      <td>HIGH</td>\n",
       "      <td>1</td>\n",
       "      <td>LOW</td>\n",
       "      <td>10</td>\n",
       "      <td>HIGH</td>\n",
       "      <td>10</td>\n",
       "      <td>HIGH</td>\n",
       "      <td>10.0</td>\n",
       "      <td>HIGH</td>\n",
       "    </tr>\n",
       "    <tr>\n",
       "      <th>4</th>\n",
       "      <td>295187</td>\n",
       "      <td>1368</td>\n",
       "      <td>61.0</td>\n",
       "      <td>14.0</td>\n",
       "      <td>35.0</td>\n",
       "      <td>200.0</td>\n",
       "      <td>96.0</td>\n",
       "      <td>&gt;100</td>\n",
       "      <td>7.221105</td>\n",
       "      <td>10</td>\n",
       "      <td>HIGH</td>\n",
       "      <td>3</td>\n",
       "      <td>LOW</td>\n",
       "      <td>10</td>\n",
       "      <td>HIGH</td>\n",
       "      <td>10</td>\n",
       "      <td>HIGH</td>\n",
       "      <td>10.0</td>\n",
       "      <td>HIGH</td>\n",
       "    </tr>\n",
       "  </tbody>\n",
       "</table>\n",
       "</div>"
      ],
      "text/plain": [
       "  PhoneCode  Building Count  #ICComplaints  #ICVios  #ICNoAccess     NA  \\\n",
       "0    162639            2247          194.0     49.0         56.0  362.0   \n",
       "1    262705            2028          149.0     30.0         78.0  304.0   \n",
       "2    438887            1804          130.0     31.0         43.0  281.0   \n",
       "3     20767            1498           45.0      8.0         17.0  128.0   \n",
       "4    295187            1368           61.0     14.0         35.0  200.0   \n",
       "\n",
       "   #ICComplaintsNoAccess Building Count Category  ln_build_count  \\\n",
       "0                  250.0                    >100        7.717351   \n",
       "1                  227.0                    >100        7.614805   \n",
       "2                  173.0                    >100        7.497762   \n",
       "3                   62.0                    >100        7.311886   \n",
       "4                   96.0                    >100        7.221105   \n",
       "\n",
       "   Risk Score IllegConv Complaints Risk Category IllegConv Complaints  \\\n",
       "0                               10                               HIGH   \n",
       "1                               10                               HIGH   \n",
       "2                               10                               HIGH   \n",
       "3                                8                               HIGH   \n",
       "4                               10                               HIGH   \n",
       "\n",
       "   Risk Score IllegConv Violations Risk Category IllegConv Violations  \\\n",
       "0                                8                               HIGH   \n",
       "1                                5                             MEDIUM   \n",
       "2                                6                             MEDIUM   \n",
       "3                                1                                LOW   \n",
       "4                                3                                LOW   \n",
       "\n",
       "   Risk Score NA Risk Category NA  Risk Score CompNoAccess  \\\n",
       "0             10             HIGH                       10   \n",
       "1             10             HIGH                       10   \n",
       "2             10             HIGH                       10   \n",
       "3             10             HIGH                       10   \n",
       "4             10             HIGH                       10   \n",
       "\n",
       "  Risk Category CompNoAccess  Final Score Final Risk Category  \n",
       "0                       HIGH         10.0                HIGH  \n",
       "1                       HIGH         10.0                HIGH  \n",
       "2                       HIGH         10.0                HIGH  \n",
       "3                       HIGH         10.0                HIGH  \n",
       "4                       HIGH         10.0                HIGH  "
      ]
     },
     "execution_count": 110,
     "metadata": {},
     "output_type": "execute_result"
    }
   ],
   "source": [
    "df3.head(5)"
   ]
  },
  {
   "cell_type": "code",
   "execution_count": null,
   "metadata": {
    "collapsed": true
   },
   "outputs": [],
   "source": []
  },
  {
   "cell_type": "code",
   "execution_count": 111,
   "metadata": {
    "collapsed": false
   },
   "outputs": [],
   "source": [
    "df3.to_csv(path + \"IllegConv Ownership Risk Score 3.csv\", index=False)\n"
   ]
  },
  {
   "cell_type": "code",
   "execution_count": null,
   "metadata": {
    "collapsed": false
   },
   "outputs": [],
   "source": [
    "df3.head(1)"
   ]
  },
  {
   "cell_type": "markdown",
   "metadata": {},
   "source": [
    "# BUILDING LEVEL"
   ]
  },
  {
   "cell_type": "markdown",
   "metadata": {},
   "source": [
    "USE RISK SCORE TO DEVELOP LIST OF BUILDINGS UNKNOWN TO DOB"
   ]
  },
  {
   "cell_type": "code",
   "execution_count": 122,
   "metadata": {
    "collapsed": false
   },
   "outputs": [
    {
     "name": "stdout",
     "output_type": "stream",
     "text": [
      "10717\n",
      "616\n",
      "len befor subsetting for high risk phone codes\n",
      "622992\n",
      "56417\n",
      "drop dupes\n",
      "43193\n",
      "import columbia regression dataset, has all info about complaints\n",
      "43087\n"
     ]
    }
   ],
   "source": [
    "path = \"C:\\\\Users\\\\dmehri\\\\Documents\\\\DATA\\\\Building Census\\\\Columbia Data\\\\illegal conv\\\\\"\n",
    "\n",
    "dr = pd.read_csv(path + \"IllegConv Ownership Risk Score 3.csv\")\n",
    "\n",
    "print len(dr)\n",
    "\n",
    "dr = dr[dr[\"Final Risk Category\"] == \"HIGH\"].reset_index(drop=True)\n",
    "\n",
    "dr[\"PhoneCode\"] = dr[\"PhoneCode\"].astype(str).map(str.strip)\n",
    "\n",
    "print len(dr)\n",
    "\n",
    "highphonecode = list(set(dr[\"PhoneCode\"].tolist() ))\n",
    "\n",
    "\n",
    "df = pd.read_csv(path + \"Property BIN and Phone Number with Codes HPD COLUMBIA.csv\")\n",
    "\n",
    "df[\"PhoneCode\"] = df[\"PhoneCode\"].astype(str).map(str.strip)\n",
    "\n",
    "\n",
    "df.head(1)\n",
    "\n",
    "print \"len befor subsetting for high risk phone codes\"\n",
    "print len(df)\n",
    "\n",
    "df = df[df['PhoneCode'].isin(highphonecode)].reset_index(drop=True)\n",
    "print len(df)\n",
    "\n",
    "print \"drop dupes\"\n",
    "df = df.drop_duplicates(['BIN']).reset_index(drop=True)\n",
    "\n",
    "df[\"BIN\"] = df[\"BIN\"].astype(str).map(str.strip)\n",
    "\n",
    "binlist = df[\"BIN\"].tolist()\n",
    "\n",
    "\n",
    "print len(df)\n",
    "print \"import columbia regression dataset, has all info about complaints\"\n",
    "\n",
    "dc = pd.read_csv(path + \"Building Censes Illeg Conv Columbia Regression.csv\")\n",
    "dc[\"BIN\"] = dc[\"BIN\"].astype(str).map(str.strip)\n",
    "dc = dc[dc['BIN'].isin(binlist)].reset_index(drop=True)\n",
    "print len(dc)\n",
    "\n",
    "\n",
    "\n",
    "#di = pd.read_csv(path + \"DOB_Complaints_Received_Final_Disposition_with_I1-2.csv\")\n",
    "\n",
    "#di[\"BIN\"] = di[\"BIN\"].astype(str).map(str.strip)\n",
    "#df[\"BIN\"] = df[\"BIN\"].astype(str).map(str.strip)\n",
    "\n",
    "#di = di[[\"BIN\"]]\n",
    "#di[\"Complaint\"] = 1\n",
    "\n",
    "#diDic = di.set_index('BIN')['Complaint'].to_dict()\n",
    "\n",
    "#df[\"Complaint\"] = df[\"BIN\"].map(diDic)\n",
    "#df[\"Complaint\"] = df[\"Complaint\"].fillna(0)\n",
    "\n",
    "#df2 = df[df[\"Complaint\"] == 0].reset_index(drop=True)\n",
    "\n",
    "#print \"len of high risk buildings\", len(df2)\n"
   ]
  },
  {
   "cell_type": "code",
   "execution_count": 123,
   "metadata": {
    "collapsed": false
   },
   "outputs": [],
   "source": [
    "dc.to_csv(path + \"test.csv\", index=False)"
   ]
  },
  {
   "cell_type": "markdown",
   "metadata": {},
   "source": [
    "### USE RISK SCORE TO DEVELOP LIST OF BUILDINGS UNKNOWN TO DOB, USING UPDATED COLUMBIA RISK SCORING "
   ]
  },
  {
   "cell_type": "code",
   "execution_count": 2,
   "metadata": {
    "collapsed": false
   },
   "outputs": [
    {
     "name": "stdout",
     "output_type": "stream",
     "text": [
      "10717\n",
      "10717\n"
     ]
    }
   ],
   "source": [
    "import pandas as pd\n",
    "\n",
    "path = \"C:\\\\Users\\\\dmehri\\\\Documents\\\\DATA\\\\Building Census\\\\Columbia Data\\\\illegal conv\\\\\"\n",
    "\n",
    "dr = pd.read_csv(path + \"IllegConv Ownership Risk Score 3.csv\")\n",
    "\n",
    "print len(dr)\n",
    "\n",
    "#dr = dr[dr[\"Final Risk Category\"] == \"HIGH\"].reset_index(drop=True)\n",
    "\n",
    "dr[\"PhoneCode\"] = dr[\"PhoneCode\"].astype(str).map(str.strip)\n",
    "\n",
    "print len(dr)\n",
    "\n",
    "highphonecode = list(set(dr[\"PhoneCode\"].tolist() ))"
   ]
  },
  {
   "cell_type": "code",
   "execution_count": 90,
   "metadata": {
    "collapsed": false
   },
   "outputs": [
    {
     "name": "stdout",
     "output_type": "stream",
     "text": [
      "Calculate Risk Scores for Complaint/No Access and vios\n"
     ]
    }
   ],
   "source": [
    "print \"Calculate Risk Scores for Complaint/No Access and vios\"\n",
    "\n",
    "pd.set_option('chained_assignment', None)\n",
    "\n",
    "\n",
    "dr[\"#ICComplaintsNoAccessVios\"] = dr[\"#ICVios\"] + dr[\"#ICNoAccess\"]\n",
    "\n",
    "dr[\"Risk Score CompNoAccessVios\"] = 0.0\n",
    "\n",
    "dr[\"Risk Category CompNoAccessVios\"] = \"\"\n",
    "\n",
    "#dr[\"ln_build_count\"] = dr[\"Building Count\"].log()\n",
    "\n",
    "for i in range(0, len(dr)):\n",
    "    #print dr[\"Building Count\"][i]\n",
    "    #dr[\"ln_build_count\"][i] = np.log(dr[\"Building Count\"][i])\n",
    "    \n",
    "    ln_bc = dr[\"ln_build_count\"][i]\n",
    "    \n",
    "    dr[\"Risk Score CompNoAccessVios\"][i] = dr[\"#ICComplaintsNoAccessVios\"][i]/(ln_bc**2)\n",
    "    \n",
    "    if dr[\"Risk Score CompNoAccessVios\"][i] > 1:\n",
    "        dr[\"Risk Score CompNoAccessVios\"][i] = 1\n",
    "    \n",
    "    dr[\"Risk Score CompNoAccessVios\"][i] = (dr[\"Risk Score CompNoAccessVios\"][i]*10).round(0)\n",
    "    \n",
    "    if dr[\"Risk Score CompNoAccessVios\"][i] >= 8:\n",
    "        dr[\"Risk Category CompNoAccessVios\"][i] = \"HIGH\"\n",
    "        \n",
    "    elif (dr[\"Risk Score CompNoAccessVios\"][i] >= 5 and dr[\"Risk Score CompNoAccessVios\"][i] < 8):\n",
    "        dr[\"Risk Category CompNoAccessVios\"][i] = \"MEDIUM\"\n",
    "\n",
    "    else:\n",
    "        dr[\"Risk Category CompNoAccessVios\"][i] = \"LOW\"\n",
    "\n",
    "\n",
    "dr[\"Risk Score CompNoAccessVios\"] = dr[\"Risk Score CompNoAccessVios\"].astype(int)"
   ]
  },
  {
   "cell_type": "code",
   "execution_count": 91,
   "metadata": {
    "collapsed": true
   },
   "outputs": [],
   "source": [
    "dr.to_csv(path + \"test.csv\", index=False)"
   ]
  },
  {
   "cell_type": "markdown",
   "metadata": {},
   "source": [
    "### NA AND 1-2 FAMILY"
   ]
  },
  {
   "cell_type": "code",
   "execution_count": 92,
   "metadata": {
    "collapsed": false
   },
   "outputs": [
    {
     "name": "stdout",
     "output_type": "stream",
     "text": [
      "len of df 622992\n",
      "len of df2 317538\n",
      "len of df 622992\n",
      "map dictionary to dr\n"
     ]
    }
   ],
   "source": [
    "pathc = \"C:\\\\Users\\\\dmehri\\\\Documents\\\\DATA\\\\Building Census\\\\Columbia Data\\\\\"\n",
    "\n",
    "df = pd.read_csv(pathc + \"Property BIN and Phone Number with Codes HPD COLUMBIA.csv\")\n",
    "\n",
    "df[\"BIN\"] = df[\"BIN\"].astype(str).map(str.strip)\n",
    "df[\"PhoneCode\"] = df[\"PhoneCode\"].astype(str).map(str.strip)\n",
    "\n",
    "df = df[[\"BIN\", \"PhoneCode\"]]\n",
    "\n",
    "print \"len of df\", len(df)\n",
    "\n",
    "df2 = pd.read_csv(path + \"Building Censes Illeg Conv Columbia Regression.csv\")\n",
    "\n",
    "df2 = df2[[\"BIN\",\"NA\", \"1-2 FAMILY\"]]\n",
    "\n",
    "df2[\"1-2FandNA\"] = df2[\"NA\"] + df2[\"1-2 FAMILY\"]\n",
    "\n",
    "df2[\"1-2FandNA\"] = df2[\"1-2FandNA\"].astype(str)\n",
    "df2[\"1-2FandNA\"] = df2[\"1-2FandNA\"].str.replace('1', '0')\n",
    "df2[\"1-2FandNA\"] = df2[\"1-2FandNA\"].str.replace('2', '1')\n",
    "df2[\"1-2FandNA\"] = df2[\"1-2FandNA\"].astype(float)\n",
    "\n",
    "df2[\"BIN\"] = df2[\"BIN\"].astype(str).map(str.strip)\n",
    "\n",
    "print \"len of df2\", len(df2)\n",
    "\n",
    "df2Dic = df2.set_index('BIN')['1-2FandNA'].to_dict()\n",
    "\n",
    "df[\"1_2FandNA\"] = df[\"BIN\"].map(df2Dic)\n",
    "\n",
    "\n",
    "print \"len of df\", len(df)\n",
    "\n",
    "df = df[[\"PhoneCode\", \"1_2FandNA\"]]\n",
    "\n",
    "dfG = df.groupby(['PhoneCode']).sum()\n",
    "dfG = dfG.add_suffix('').reset_index()\n",
    "\n",
    "dfG = dfG.sort_values(by = '1_2FandNA', ascending=False).reset_index(drop=True)\n",
    "\n",
    "dfGDic = dfG.set_index('PhoneCode')['1_2FandNA'].to_dict()\n",
    "\n",
    "print \"map dictionary to dr\"\n",
    "\n",
    "dr[\"#1_2FandNA\"] =  dr[\"PhoneCode\"].map(dfGDic)\n",
    "\n"
   ]
  },
  {
   "cell_type": "code",
   "execution_count": 87,
   "metadata": {
    "collapsed": false
   },
   "outputs": [],
   "source": [
    "dr.to_csv(path + \"test.csv\", index=False)"
   ]
  },
  {
   "cell_type": "code",
   "execution_count": 89,
   "metadata": {
    "collapsed": false
   },
   "outputs": [
    {
     "data": {
      "text/plain": [
       "PhoneCode                              object\n",
       "Building Count                          int64\n",
       "#ICComplaints                         float64\n",
       "#ICVios                               float64\n",
       "#ICNoAccess                           float64\n",
       "NA                                    float64\n",
       "#ICComplaintsNoAccess                 float64\n",
       "Building Count Category                object\n",
       "ln_build_count                        float64\n",
       "Risk Score IllegConv Complaints         int64\n",
       "Risk Category IllegConv Complaints     object\n",
       "Risk Score IllegConv Violations         int64\n",
       "Risk Category IllegConv Violations     object\n",
       "Risk Score NA                           int64\n",
       "Risk Category NA                       object\n",
       "Risk Score CompNoAccess                 int64\n",
       "Risk Category CompNoAccess             object\n",
       "Final Score                           float64\n",
       "Final Risk Category                    object\n",
       "#ICComplaintsNoAccessVios             float64\n",
       "Risk Score CompNoAccessVios             int32\n",
       "Risk Category CompNoAccessVios         object\n",
       "#1-2 FAMILY                           float64\n",
       "#IC1-2FamNA                           float64\n",
       "Risk Score 1-2FamNA                     int32\n",
       "Risk Category 1-2FamNA                 object\n",
       "Final Score 2                         float64\n",
       "Final Risk Category 2                  object\n",
       "#1_2FandNA                            float64\n",
       "dtype: object"
      ]
     },
     "execution_count": 89,
     "metadata": {},
     "output_type": "execute_result"
    }
   ],
   "source": [
    "dr.dtypes"
   ]
  },
  {
   "cell_type": "markdown",
   "metadata": {},
   "source": [
    "CREATE NA 1-2 FAMILY SCORE"
   ]
  },
  {
   "cell_type": "code",
   "execution_count": 93,
   "metadata": {
    "collapsed": true
   },
   "outputs": [],
   "source": [
    "#dr[\"#IC1-2FamNA\"] = dr[\"#1-2 FAMILY\"] + dr[\"NA\"]\n",
    "\n",
    "dr[\"Risk Score 1-2FamNA\"] = 0.0\n",
    "\n",
    "dr[\"Risk Category 1-2FamNA\"] = \"\"\n",
    "\n",
    "\n",
    "for i in range(0, len(dr)):\n",
    "    ln_bc = dr[\"ln_build_count\"][i]\n",
    "    dr[\"Risk Score 1-2FamNA\"][i] = dr[\"#1_2FandNA\"][i]/(ln_bc**2)\n",
    "    \n",
    "    if dr[\"Risk Score 1-2FamNA\"][i] > 1:\n",
    "        dr[\"Risk Score 1-2FamNA\"][i] = 1\n",
    "    \n",
    "    dr[\"Risk Score 1-2FamNA\"][i] = (dr[\"Risk Score 1-2FamNA\"][i]*10).round(0)\n",
    "    \n",
    "    if dr[\"Risk Score 1-2FamNA\"][i] >= 8:\n",
    "        dr[\"Risk Category 1-2FamNA\"][i] = \"HIGH\"\n",
    "        \n",
    "    elif (dr[\"Risk Score 1-2FamNA\"][i] >= 5 and dr[\"Risk Score 1-2FamNA\"][i] < 8):\n",
    "        dr[\"Risk Category 1-2FamNA\"][i] = \"MEDIUM\"\n",
    "\n",
    "    else:\n",
    "        dr[\"Risk Category 1-2FamNA\"][i] = \"LOW\"\n",
    "\n",
    "\n",
    "dr[\"Risk Score 1-2FamNA\"] = dr[\"Risk Score 1-2FamNA\"].astype(int)\n",
    "\n"
   ]
  },
  {
   "cell_type": "code",
   "execution_count": 95,
   "metadata": {
    "collapsed": false
   },
   "outputs": [],
   "source": [
    "dr.to_csv(path + \"test.csv\", index=False)"
   ]
  },
  {
   "cell_type": "code",
   "execution_count": 96,
   "metadata": {
    "collapsed": false
   },
   "outputs": [],
   "source": [
    "dr[\"Final Score 2\"] = (1.3*dr[\"Risk Score CompNoAccessVios\"] + \n",
    "                      0.7*dr[\"Risk Score 1-2FamNA\"])\n",
    "\n",
    "dr[\"Final Score 2\"] = (dr[\"Final Score 2\"]/20.0)*10\n",
    "\n",
    "dr[\"Final Risk Category 2\"] = \"\"\n",
    "\n",
    "for i in range(0, len(dr)):\n",
    "    if dr[\"Final Score 2\"][i] >= 8:\n",
    "        dr[\"Final Risk Category 2\"][i] = \"HIGH\"\n",
    "    elif dr[\"Final Score 2\"][i] < 5:\n",
    "        dr[\"Final Risk Category 2\"][i] = \"LOW\"\n",
    "    else:\n",
    "        dr[\"Final Risk Category 2\"][i] = \"MEDIUM\"\n",
    "       \n",
    "\n",
    "                      \n"
   ]
  },
  {
   "cell_type": "code",
   "execution_count": 97,
   "metadata": {
    "collapsed": true
   },
   "outputs": [],
   "source": [
    "dr.to_csv(path + \"test.csv\", index=False)"
   ]
  },
  {
   "cell_type": "code",
   "execution_count": 46,
   "metadata": {
    "collapsed": false
   },
   "outputs": [
    {
     "data": {
      "text/html": [
       "<div>\n",
       "<table border=\"1\" class=\"dataframe\">\n",
       "  <thead>\n",
       "    <tr style=\"text-align: right;\">\n",
       "      <th></th>\n",
       "      <th>PhoneCode</th>\n",
       "      <th>Building Count</th>\n",
       "      <th>#ICComplaints</th>\n",
       "      <th>#ICVios</th>\n",
       "      <th>#ICNoAccess</th>\n",
       "      <th>NA</th>\n",
       "      <th>#ICComplaintsNoAccess</th>\n",
       "      <th>Building Count Category</th>\n",
       "      <th>ln_build_count</th>\n",
       "      <th>Risk Score IllegConv Complaints</th>\n",
       "      <th>...</th>\n",
       "      <th>Final Risk Category</th>\n",
       "      <th>#ICComplaintsNoAccessVios</th>\n",
       "      <th>Risk Score CompNoAccessVios</th>\n",
       "      <th>Risk Category CompNoAccessVios</th>\n",
       "      <th>#1-2 FAMILY</th>\n",
       "      <th>#IC1-2FamNA</th>\n",
       "      <th>Risk Score 1-2FamNA</th>\n",
       "      <th>Risk Category 1-2FamNA</th>\n",
       "      <th>Final Score 2</th>\n",
       "      <th>Final Risk Category 2</th>\n",
       "    </tr>\n",
       "  </thead>\n",
       "  <tbody>\n",
       "    <tr>\n",
       "      <th>0</th>\n",
       "      <td>162639</td>\n",
       "      <td>2247</td>\n",
       "      <td>194.0</td>\n",
       "      <td>49.0</td>\n",
       "      <td>56.0</td>\n",
       "      <td>362.0</td>\n",
       "      <td>250.0</td>\n",
       "      <td>&gt;100</td>\n",
       "      <td>7.717351</td>\n",
       "      <td>10</td>\n",
       "      <td>...</td>\n",
       "      <td>HIGH</td>\n",
       "      <td>299.0</td>\n",
       "      <td>10</td>\n",
       "      <td>HIGH</td>\n",
       "      <td>99.0</td>\n",
       "      <td>461.0</td>\n",
       "      <td>10</td>\n",
       "      <td>HIGH</td>\n",
       "      <td>10.0</td>\n",
       "      <td>HIGH</td>\n",
       "    </tr>\n",
       "  </tbody>\n",
       "</table>\n",
       "<p>1 rows × 28 columns</p>\n",
       "</div>"
      ],
      "text/plain": [
       "  PhoneCode  Building Count  #ICComplaints  #ICVios  #ICNoAccess     NA  \\\n",
       "0    162639            2247          194.0     49.0         56.0  362.0   \n",
       "\n",
       "   #ICComplaintsNoAccess Building Count Category  ln_build_count  \\\n",
       "0                  250.0                    >100        7.717351   \n",
       "\n",
       "   Risk Score IllegConv Complaints          ...           Final Risk Category  \\\n",
       "0                               10          ...                          HIGH   \n",
       "\n",
       "   #ICComplaintsNoAccessVios Risk Score CompNoAccessVios  \\\n",
       "0                      299.0                          10   \n",
       "\n",
       "   Risk Category CompNoAccessVios #1-2 FAMILY  #IC1-2FamNA  \\\n",
       "0                            HIGH        99.0        461.0   \n",
       "\n",
       "  Risk Score 1-2FamNA  Risk Category 1-2FamNA Final Score 2  \\\n",
       "0                  10                    HIGH          10.0   \n",
       "\n",
       "   Final Risk Category 2  \n",
       "0                   HIGH  \n",
       "\n",
       "[1 rows x 28 columns]"
      ]
     },
     "execution_count": 46,
     "metadata": {},
     "output_type": "execute_result"
    }
   ],
   "source": [
    "dr.head(1)"
   ]
  },
  {
   "cell_type": "markdown",
   "metadata": {},
   "source": [
    "### GET THE ACTUAL BUILDINGS"
   ]
  },
  {
   "cell_type": "code",
   "execution_count": 98,
   "metadata": {
    "collapsed": false
   },
   "outputs": [
    {
     "name": "stdout",
     "output_type": "stream",
     "text": [
      "10717\n",
      "110\n",
      "get the list of buildings the owners own\n",
      "len of do 622992\n",
      "len of do 15399\n",
      "number of buildings\n",
      "14459\n"
     ]
    },
    {
     "data": {
      "text/plain": [
       "'\\nfor i in range(0, len(df)):\\n    if df[\"BIN\"][i] in binlist:\\n        df[\"High Risk\"][i] = \"YES\" \\n        count+=1\\n    \\nprint \"count\", count\\n\\n'"
      ]
     },
     "execution_count": 98,
     "metadata": {},
     "output_type": "execute_result"
    }
   ],
   "source": [
    "print len(dr)\n",
    "b = dr[dr[\"Final Risk Category 2\"] == \"HIGH\"]\n",
    "print len(b)\n",
    "\n",
    "b = b[\"PhoneCode\"].tolist()\n",
    "\n",
    "print \"get the list of buildings the owners own\"\n",
    "\n",
    "do = pd.read_csv(pathc + \"Property BIN and Phone Number with Codes HPD COLUMBIA.csv\")\n",
    "\n",
    "print \"len of do\", len(do)\n",
    "do[\"PhoneCode\"] = do[\"PhoneCode\"].astype(str)\n",
    "\n",
    "do = do[do['PhoneCode'].isin(b)].reset_index(drop=True)\n",
    "\n",
    "do[\"BIN\"] = do[\"BIN\"].astype(str)\n",
    "\n",
    "print \"len of do\", len(do)\n",
    "\n",
    "countbuild = set(do[\"BIN\"].tolist())\n",
    "\n",
    "print \"number of buildings\"\n",
    "print len(countbuild)\n",
    "\n",
    "\n",
    "df = pd.read_csv(path + \"Building Censes Illeg Conv Columbia Regression.csv\")\n",
    "df[\"BIN\"] = df[\"BIN\"].astype(str)\n",
    "\n",
    "binlist = list(set(do[\"BIN\"].tolist()  ))\n",
    "\n",
    "do2 = do[[\"BIN\"]]\n",
    "\n",
    "do2[\"High Risk\"] = 1\n",
    "\n",
    "do2Dic = do2.set_index('BIN')['High Risk'].to_dict()\n",
    "\n",
    "df[\"High Risk\"] = df[\"BIN\"].map(do2Dic)\n",
    "df[\"High Risk\"] = df[\"High Risk\"].fillna(0)\n",
    "\n",
    "\n",
    "\n",
    "\n",
    "\n",
    "#df[\"High Risk\"] = \"NO\"\n",
    "\n",
    "#count = 0\n",
    "\n",
    "\"\"\"\n",
    "for i in range(0, len(df)):\n",
    "    if df[\"BIN\"][i] in binlist:\n",
    "        df[\"High Risk\"][i] = \"YES\" \n",
    "        count+=1\n",
    "    \n",
    "print \"count\", count\n",
    "\n",
    "\"\"\""
   ]
  },
  {
   "cell_type": "code",
   "execution_count": 71,
   "metadata": {
    "collapsed": false
   },
   "outputs": [
    {
     "data": {
      "text/plain": [
       "'1000005'"
      ]
     },
     "execution_count": 71,
     "metadata": {},
     "output_type": "execute_result"
    }
   ],
   "source": [
    "df[\"BIN\"][0]"
   ]
  },
  {
   "cell_type": "code",
   "execution_count": 100,
   "metadata": {
    "collapsed": true
   },
   "outputs": [],
   "source": [
    "df.to_csv(path + \"IllegConv Ownership Risk Score 4.csv\", index=False)"
   ]
  },
  {
   "cell_type": "code",
   "execution_count": 45,
   "metadata": {
    "collapsed": true
   },
   "outputs": [],
   "source": [
    "dr.to_csv(path + \"test.csv\", index=False)"
   ]
  },
  {
   "cell_type": "code",
   "execution_count": 36,
   "metadata": {
    "collapsed": false
   },
   "outputs": [
    {
     "data": {
      "text/html": [
       "<div>\n",
       "<table border=\"1\" class=\"dataframe\">\n",
       "  <thead>\n",
       "    <tr style=\"text-align: right;\">\n",
       "      <th></th>\n",
       "      <th>PhoneCode</th>\n",
       "      <th>Building Count</th>\n",
       "      <th>#ICComplaints</th>\n",
       "      <th>#ICVios</th>\n",
       "      <th>#ICNoAccess</th>\n",
       "      <th>NA</th>\n",
       "      <th>#ICComplaintsNoAccess</th>\n",
       "      <th>Building Count Category</th>\n",
       "      <th>ln_build_count</th>\n",
       "      <th>Risk Score IllegConv Complaints</th>\n",
       "      <th>...</th>\n",
       "      <th>Risk Score NA</th>\n",
       "      <th>Risk Category NA</th>\n",
       "      <th>Risk Score CompNoAccess</th>\n",
       "      <th>Risk Category CompNoAccess</th>\n",
       "      <th>Final Score</th>\n",
       "      <th>Final Risk Category</th>\n",
       "      <th>#ICComplaintsNoAccessVios</th>\n",
       "      <th>Risk Score CompNoAccessVios</th>\n",
       "      <th>Risk Category CompNoAccessVios</th>\n",
       "      <th>#1-2 FAMILY</th>\n",
       "    </tr>\n",
       "  </thead>\n",
       "  <tbody>\n",
       "    <tr>\n",
       "      <th>0</th>\n",
       "      <td>162639</td>\n",
       "      <td>2247</td>\n",
       "      <td>194.0</td>\n",
       "      <td>49.0</td>\n",
       "      <td>56.0</td>\n",
       "      <td>362.0</td>\n",
       "      <td>250.0</td>\n",
       "      <td>&gt;100</td>\n",
       "      <td>7.717351</td>\n",
       "      <td>10</td>\n",
       "      <td>...</td>\n",
       "      <td>10</td>\n",
       "      <td>HIGH</td>\n",
       "      <td>10</td>\n",
       "      <td>HIGH</td>\n",
       "      <td>10.0</td>\n",
       "      <td>HIGH</td>\n",
       "      <td>299.0</td>\n",
       "      <td>10</td>\n",
       "      <td>HIGH</td>\n",
       "      <td>99.0</td>\n",
       "    </tr>\n",
       "  </tbody>\n",
       "</table>\n",
       "<p>1 rows × 23 columns</p>\n",
       "</div>"
      ],
      "text/plain": [
       "  PhoneCode  Building Count  #ICComplaints  #ICVios  #ICNoAccess     NA  \\\n",
       "0    162639            2247          194.0     49.0         56.0  362.0   \n",
       "\n",
       "   #ICComplaintsNoAccess Building Count Category  ln_build_count  \\\n",
       "0                  250.0                    >100        7.717351   \n",
       "\n",
       "   Risk Score IllegConv Complaints     ...      Risk Score NA  \\\n",
       "0                               10     ...                 10   \n",
       "\n",
       "   Risk Category NA Risk Score CompNoAccess  Risk Category CompNoAccess  \\\n",
       "0              HIGH                      10                        HIGH   \n",
       "\n",
       "  Final Score  Final Risk Category #ICComplaintsNoAccessVios  \\\n",
       "0        10.0                 HIGH                     299.0   \n",
       "\n",
       "   Risk Score CompNoAccessVios Risk Category CompNoAccessVios  #1-2 FAMILY  \n",
       "0                           10                           HIGH         99.0  \n",
       "\n",
       "[1 rows x 23 columns]"
      ]
     },
     "execution_count": 36,
     "metadata": {},
     "output_type": "execute_result"
    }
   ],
   "source": [
    "dr.head(1)"
   ]
  },
  {
   "cell_type": "markdown",
   "metadata": {},
   "source": [
    "# ********** OLD STUFF***************"
   ]
  },
  {
   "cell_type": "markdown",
   "metadata": {},
   "source": [
    "### COLUMBIA REGRESSION ANALYSIS"
   ]
  },
  {
   "cell_type": "code",
   "execution_count": 29,
   "metadata": {
    "collapsed": true
   },
   "outputs": [],
   "source": [
    "path = \"C:\\\\Users\\\\dmehri\\\\Documents\\\\DATA\\\\Building Census\\\\Columbia Data\\\\\"\n",
    "\n",
    "import pandas as pd\n",
    "\n",
    "import numpy as np\n",
    "\n",
    "df = pd.read_csv(path + \"Comprehensive 1- 317K HPD List.csv\")\n",
    "\n",
    "df[\"BIN\"] = df[\"BIN\"].astype(str).map(str.strip)\n",
    "\n"
   ]
  },
  {
   "cell_type": "markdown",
   "metadata": {},
   "source": [
    "### Complaints and Dispositions"
   ]
  },
  {
   "cell_type": "code",
   "execution_count": 30,
   "metadata": {
    "collapsed": false
   },
   "outputs": [],
   "source": [
    "pathi = \"C:\\\\Users\\\\dmehri\\\\Documents\\\\DATA\\\\Building Census\\\\Columbia Data\\illegal conv\\\\\"\n",
    "\n",
    "di = pd.read_csv(pathi + \"DOB_Complaints_Received_Final_Disposition.csv\", low_memory=False)\n",
    "\n",
    "\n",
    "di[\"BIN\"] = di[\"BIN\"].astype(str).map(str.strip)\n"
   ]
  },
  {
   "cell_type": "markdown",
   "metadata": {},
   "source": [
    "(1) ilc complaint with confirmed violation \n",
    "\n",
    "(2) ilc complaint and no access\n",
    "\n",
    "(3) ilc complaint and BSC (affirmative disposition that not a violation)\n",
    "\n",
    "(4) ilc complaint and all other dispositions, other than no access, vio and bsc\n",
    "\n",
    "(5) No violation"
   ]
  },
  {
   "cell_type": "code",
   "execution_count": 31,
   "metadata": {
    "collapsed": false
   },
   "outputs": [
    {
     "name": "stdout",
     "output_type": "stream",
     "text": [
      "len of all complaints 2569490\n",
      "get only illegal conversion complaints, 45, 31, 71\n",
      "len after getting only ics 489177\n",
      "len before drop dates 489177\n",
      "len after drop 108688\n",
      "Get only final complaints\n",
      "len of datframe 108688\n",
      "number of unique complaints 64946\n",
      "0\n",
      "3000\n",
      "6000\n",
      "9000\n",
      "12000\n",
      "15000\n",
      "18000\n",
      "21000\n",
      "24000\n",
      "27000\n",
      "30000\n",
      "33000\n",
      "36000\n",
      "39000\n",
      "42000\n",
      "45000\n",
      "48000\n",
      "51000\n",
      "54000\n",
      "57000\n",
      "60000\n",
      "63000\n",
      "len of final dataframe 64946\n",
      "Data includes I1, and I2, complaint unsubstantiated\n",
      "64946\n",
      "Add number of complaints\n",
      "len di2 64946\n",
      "len di2Dic 40355\n",
      "Map to df\n"
     ]
    }
   ],
   "source": [
    "pathb = \"C:\\\\Users\\\\dmehri\\\\Documents\\\\DATA\\\\Building Census\\\\Columbia Data\\\\\"\n",
    "\n",
    "di = pd.read_csv(pathb + \"DOB_Complaints_Received.csv\",low_memory=False )\n",
    "\n",
    "print \"len of all complaints\", len(di)\n",
    "\n",
    "di[\"Complaint Category\"] = di[\"Complaint Category\"].astype(str).map(str.strip)\n",
    "\n",
    "print \"get only illegal conversion complaints, 45, 31, 71\"\n",
    "\n",
    "illegconv = [\"45\", \"31\", \"71\"]\n",
    "\n",
    "di = di[di['Complaint Category'].isin(illegconv)].reset_index(drop=True)\n",
    "\n",
    "print \"len after getting only ics\", len(di)\n",
    "\n",
    "\n",
    "#print \"get only tru complaints, drop I1, I2\"\n",
    "\n",
    "di[\"Disposition Code\"] = di[\"Disposition Code\"].astype(str).map(str.strip)\n",
    "\n",
    "#ilist = [\"I1\", \"I2\"]\n",
    "\n",
    "#di = di[~di['Disposition Code'].isin(ilist)].reset_index(drop=True)\n",
    "\n",
    "#print \"len after drop I1, I2\", len(di)\n",
    "\n",
    "\n",
    "di['Date Entered'] = pd.to_datetime(di['Date Entered'])\n",
    "\n",
    "di[\"BIN\"] = di[\"BIN\"].astype(str).map(str.strip)\n",
    "\n",
    "di = di.sort_values(by = 'Date Entered', ascending=True).reset_index(drop=True)\n",
    "\n",
    "start_time = str(1) + '-' + str(1) + '-' + str(2017)\n",
    "mask = di['Date Entered'] >= start_time\n",
    "print \"len before drop dates\", len(di)\n",
    "di = di.loc[mask].reset_index(drop=True)\n",
    "print \"len after drop\", len(di)\n",
    "\n",
    "print \"Get only final complaints\"\n",
    "\n",
    "di = FinalComplaintDisposition(di)\n",
    "\n",
    "#print len(di)\n",
    "\n",
    "print \"Data includes I1, and I2, complaint unsubstantiated\"\n",
    "\n",
    "print len(di)\n",
    "\n",
    "print \"Add number of complaints\"\n",
    "\n",
    "di2 = di.copy()\n",
    "\n",
    "di2 = di2[[\"BIN\"]]\n",
    "di2[\"Count\"] = 1\n",
    "print \"len di2\", len(di2)\n",
    "di2G = di2.groupby(['BIN']).sum()\n",
    "di2G = di2G.add_suffix('').reset_index()\n",
    "\n",
    "di2Dic =  di2G.set_index('BIN')['Count'].to_dict()\n",
    "print \"len di2Dic\", len(di2Dic)\n",
    "\n",
    "print \"Map to df\"\n",
    "\n",
    "df[\"#ICComplaints\"] = df[\"BIN\"].map(di2Dic)\n",
    "df[\"#ICComplaints\"] = df[\"#ICComplaints\"].fillna(0)\n"
   ]
  },
  {
   "cell_type": "code",
   "execution_count": 32,
   "metadata": {
    "collapsed": false
   },
   "outputs": [
    {
     "data": {
      "text/html": [
       "<div>\n",
       "<table border=\"1\" class=\"dataframe\">\n",
       "  <thead>\n",
       "    <tr style=\"text-align: right;\">\n",
       "      <th></th>\n",
       "      <th>##</th>\n",
       "      <th>BIN</th>\n",
       "      <th>House #</th>\n",
       "      <th>Low House #</th>\n",
       "      <th>High House #</th>\n",
       "      <th>Boro</th>\n",
       "      <th>Street</th>\n",
       "      <th>CB</th>\n",
       "      <th>Block</th>\n",
       "      <th>Lot</th>\n",
       "      <th>...</th>\n",
       "      <th>SRO</th>\n",
       "      <th>DOF Stories</th>\n",
       "      <th>BIN Retired</th>\n",
       "      <th>SRO.1</th>\n",
       "      <th>BIN.2</th>\n",
       "      <th>Year Built</th>\n",
       "      <th>Built Code</th>\n",
       "      <th>Zoning Map</th>\n",
       "      <th>DataSet</th>\n",
       "      <th>#ICComplaints</th>\n",
       "    </tr>\n",
       "  </thead>\n",
       "  <tbody>\n",
       "    <tr>\n",
       "      <th>0</th>\n",
       "      <td>268741</td>\n",
       "      <td>1000005</td>\n",
       "      <td>13</td>\n",
       "      <td>13</td>\n",
       "      <td>13</td>\n",
       "      <td>MANHATTAN</td>\n",
       "      <td>SOUTH STREET</td>\n",
       "      <td>101.0</td>\n",
       "      <td>4</td>\n",
       "      <td>7501</td>\n",
       "      <td>...</td>\n",
       "      <td>NaN</td>\n",
       "      <td>0</td>\n",
       "      <td>Active BIN</td>\n",
       "      <td>NaN</td>\n",
       "      <td>1000005</td>\n",
       "      <td>1969.0</td>\n",
       "      <td>NaN</td>\n",
       "      <td>12b</td>\n",
       "      <td>DataSet2 DataSet3</td>\n",
       "      <td>0.0</td>\n",
       "    </tr>\n",
       "  </tbody>\n",
       "</table>\n",
       "<p>1 rows × 28 columns</p>\n",
       "</div>"
      ],
      "text/plain": [
       "       ##      BIN House # Low House # High House #       Boro        Street  \\\n",
       "0  268741  1000005      13          13           13  MANHATTAN  SOUTH STREET   \n",
       "\n",
       "      CB  Block   Lot      ...        SRO DOF Stories BIN Retired  SRO.1  \\\n",
       "0  101.0      4  7501      ...        NaN           0   Active BIN   NaN   \n",
       "\n",
       "     BIN.2 Year Built  Built Code  Zoning Map            DataSet  \\\n",
       "0  1000005     1969.0         NaN         12b  DataSet2 DataSet3   \n",
       "\n",
       "   #ICComplaints  \n",
       "0            0.0  \n",
       "\n",
       "[1 rows x 28 columns]"
      ]
     },
     "execution_count": 32,
     "metadata": {},
     "output_type": "execute_result"
    }
   ],
   "source": [
    "df.head(1)"
   ]
  },
  {
   "cell_type": "code",
   "execution_count": 33,
   "metadata": {
    "collapsed": false
   },
   "outputs": [
    {
     "name": "stdout",
     "output_type": "stream",
     "text": [
      "64946\n",
      "0\n",
      "8000\n",
      "16000\n",
      "24000\n",
      "32000\n",
      "40000\n",
      "48000\n",
      "56000\n",
      "64000\n",
      "number non complaints 11368\n",
      "DONE\n"
     ]
    }
   ],
   "source": [
    "pd.set_option('chained_assignment', None)\n",
    "\n",
    "\n",
    "\n",
    "dd2 = di.copy()\n",
    "\n",
    "dd2 = dd2[[\"BIN\",\"Status\",\"Date Entered\", \"Disposition Code\"]]\n",
    "\n",
    "dd2[\"Disposition Code\"] = dd2[\"Disposition Code\"].astype(str).map(str.strip)\n",
    "\n",
    "#codeCount = dd2[[\"Disposition Code\"]]\n",
    "\n",
    "#codeCount['Disposition Code'] = codeCount['Disposition Code'].str.replace(' ', 'nan')\n",
    "#codes = set(dd2[\"Disposition Code\"].tolist())\n",
    "\n",
    "violist = [\"A1\", \"A2\", \"A3\", \"A4\", \"A5\", \"A6\", \"A7\", \"A8\", \"A9\",\n",
    "          \"B1\", \"B2\", \"H3\", \"H4\", \"H5\", \"L1\", \"L3\", \"Q1\", \"Q2\",\n",
    "          \"Q3\", \"Q4\", \"Q5\", \"RU\", \"W1\"]\n",
    "\n",
    "noaccess = [\"C1\", \"C2\", \"C3\", \"C4\", \"C5\", \"C6\", \"C7\", \"C8\"]\n",
    "\n",
    "noncomplaint = [\"I1\", \"I2\"]\n",
    "\n",
    "\n",
    "\n",
    "print len(dd2)\n",
    "\n",
    "dd2[\"Violation\"] = 0\n",
    "dd2[\"No Access\"] = 0\n",
    "dd2[\"Complaint Unsubstantiated\"] = 0\n",
    "count = 0\n",
    "countnoaccess = 0\n",
    "countnoncomplaint = 0\n",
    "for i in range(0, len(dd2)):\n",
    "    if i%8000==0:\n",
    "        print i\n",
    "    if dd2[\"Disposition Code\"][i] in violist:\n",
    "        dd2[\"Violation\"][i] = 1\n",
    "        count+=1\n",
    "    if dd2[\"Disposition Code\"][i] in noaccess:\n",
    "        dd2[\"No Access\"][i] = 1\n",
    "        countnoaccess+=1\n",
    "    if dd2[\"Disposition Code\"][i] in noncomplaint:\n",
    "        dd2[\"Complaint Unsubstantiated\"][i] = 1\n",
    "        countnoncomplaint+=1\n",
    "\n",
    "#dd2G = dd2[[\"BIN\",\"Violation\", \"No Access\" ]]\n",
    "dd2G = dd2[[\"BIN\",\"Complaint Unsubstantiated\", \"Violation\", \"No Access\" ]]\n",
    "    \n",
    "dd2G = dd2G.groupby(['BIN']).sum()\n",
    "dd2G = dd2G.add_suffix('').reset_index()\n",
    "\n",
    "#dd2G = dd2G.sort_values(by = 'Violation', ascending=False).reset_index(drop=True)\n",
    "\n",
    "dd2DicVio = dd2G.set_index('BIN')['Violation'].to_dict()\n",
    "dd2DicUns = dd2G.set_index('BIN')['Complaint Unsubstantiated'].to_dict()\n",
    "dd2DicNoAccess = dd2G.set_index('BIN')['No Access'].to_dict()\n",
    "\n",
    "df[\"#ICBSC\"] = df[\"BIN\"].map(dd2DicUns)\n",
    "df[\"#ICBSC\"] = df[\"#ICBSC\"].fillna(0)\n",
    "\n",
    "df[\"#ICVios\"] = df[\"BIN\"].map(dd2DicVio)\n",
    "df[\"#ICVios\"] = df[\"#ICVios\"].fillna(0)\n",
    "\n",
    "df[\"#ICNoAccess\"] = df[\"BIN\"].map(dd2DicNoAccess)\n",
    "df[\"#ICNoAccess\"] = df[\"#ICNoAccess\"].fillna(0)\n",
    "\n",
    "#print\n",
    "#print \"total number of dispositions\", len(dd2)\n",
    "#print \"number of violations\", count\n",
    "#print \"number no access\", countnoaccess\n",
    "print \"number non complaints\", countnoncomplaint\n",
    "\n",
    "print \"DONE\""
   ]
  },
  {
   "cell_type": "markdown",
   "metadata": {},
   "source": [
    "### ADD NA FLAG"
   ]
  },
  {
   "cell_type": "code",
   "execution_count": 37,
   "metadata": {
    "collapsed": false
   },
   "outputs": [
    {
     "name": "stdout",
     "output_type": "stream",
     "text": [
      "123129\n"
     ]
    }
   ],
   "source": [
    "pd.set_option('chained_assignment', None)\n",
    "dna = pd.read_csv(path + \"Comprehensive 1- 317K HPD List.csv\",low_memory=False )\n",
    "dna[\"BIN\"] = dna[\"BIN\"].astype(str).map(str.strip)\n",
    "dna[\"HPD Classifications\"] = dna[\"HPD Classifications\"].astype(str).map(str.strip).map(str.upper)\n",
    "\n",
    "na = dna[dna[\"HPD Classifications\"] == \"NOT AVAILABLE\"]\n",
    "\n",
    "print len(na)\n",
    "\n",
    "na[\"Count\"] = 1\n",
    "\n",
    "naDic =  na.set_index('BIN')['Count'].to_dict()\n",
    "\n",
    "df[\"NA\"] = df[\"BIN\"].map(naDic)\n",
    "df[\"NA\"] = df[\"NA\"].fillna(0)\n"
   ]
  },
  {
   "cell_type": "code",
   "execution_count": 38,
   "metadata": {
    "collapsed": false
   },
   "outputs": [
    {
     "data": {
      "text/html": [
       "<div>\n",
       "<table border=\"1\" class=\"dataframe\">\n",
       "  <thead>\n",
       "    <tr style=\"text-align: right;\">\n",
       "      <th></th>\n",
       "      <th>##</th>\n",
       "      <th>BIN</th>\n",
       "      <th>House #</th>\n",
       "      <th>Low House #</th>\n",
       "      <th>High House #</th>\n",
       "      <th>Boro</th>\n",
       "      <th>Street</th>\n",
       "      <th>CB</th>\n",
       "      <th>Block</th>\n",
       "      <th>Lot</th>\n",
       "      <th>...</th>\n",
       "      <th>BIN.2</th>\n",
       "      <th>Year Built</th>\n",
       "      <th>Built Code</th>\n",
       "      <th>Zoning Map</th>\n",
       "      <th>DataSet</th>\n",
       "      <th>#ICComplaints</th>\n",
       "      <th>#ICBSC</th>\n",
       "      <th>#ICVios</th>\n",
       "      <th>#ICNoAccess</th>\n",
       "      <th>NA</th>\n",
       "    </tr>\n",
       "  </thead>\n",
       "  <tbody>\n",
       "    <tr>\n",
       "      <th>0</th>\n",
       "      <td>268741</td>\n",
       "      <td>1000005</td>\n",
       "      <td>13</td>\n",
       "      <td>13</td>\n",
       "      <td>13</td>\n",
       "      <td>MANHATTAN</td>\n",
       "      <td>SOUTH STREET</td>\n",
       "      <td>101.0</td>\n",
       "      <td>4</td>\n",
       "      <td>7501</td>\n",
       "      <td>...</td>\n",
       "      <td>1000005</td>\n",
       "      <td>1969.0</td>\n",
       "      <td>NaN</td>\n",
       "      <td>12b</td>\n",
       "      <td>DataSet2 DataSet3</td>\n",
       "      <td>0.0</td>\n",
       "      <td>0.0</td>\n",
       "      <td>0.0</td>\n",
       "      <td>0.0</td>\n",
       "      <td>1.0</td>\n",
       "    </tr>\n",
       "  </tbody>\n",
       "</table>\n",
       "<p>1 rows × 32 columns</p>\n",
       "</div>"
      ],
      "text/plain": [
       "       ##      BIN House # Low House # High House #       Boro        Street  \\\n",
       "0  268741  1000005      13          13           13  MANHATTAN  SOUTH STREET   \n",
       "\n",
       "      CB  Block   Lot ...     BIN.2 Year Built Built Code Zoning Map  \\\n",
       "0  101.0      4  7501 ...   1000005     1969.0        NaN        12b   \n",
       "\n",
       "             DataSet #ICComplaints  #ICBSC  #ICVios #ICNoAccess   NA  \n",
       "0  DataSet2 DataSet3           0.0     0.0      0.0         0.0  1.0  \n",
       "\n",
       "[1 rows x 32 columns]"
      ]
     },
     "execution_count": 38,
     "metadata": {},
     "output_type": "execute_result"
    }
   ],
   "source": [
    "df.head(1)"
   ]
  },
  {
   "cell_type": "code",
   "execution_count": 24,
   "metadata": {
    "collapsed": false
   },
   "outputs": [],
   "source": [
    "di.to_csv(pathi  + \"DOB_Complaints_Received_Final_Disposition_with_I1-2.csv\", index=False)"
   ]
  },
  {
   "cell_type": "code",
   "execution_count": 34,
   "metadata": {
    "collapsed": true
   },
   "outputs": [],
   "source": [
    "df.to_csv(pathi + \"test.csv\", index=False)"
   ]
  },
  {
   "cell_type": "code",
   "execution_count": 36,
   "metadata": {
    "collapsed": false
   },
   "outputs": [
    {
     "data": {
      "text/html": [
       "<div>\n",
       "<table border=\"1\" class=\"dataframe\">\n",
       "  <thead>\n",
       "    <tr style=\"text-align: right;\">\n",
       "      <th></th>\n",
       "      <th>##</th>\n",
       "      <th>BIN</th>\n",
       "      <th>House #</th>\n",
       "      <th>Low House #</th>\n",
       "      <th>High House #</th>\n",
       "      <th>Boro</th>\n",
       "      <th>Street</th>\n",
       "      <th>CB</th>\n",
       "      <th>Block</th>\n",
       "      <th>Lot</th>\n",
       "      <th>...</th>\n",
       "      <th>SRO.1</th>\n",
       "      <th>BIN.2</th>\n",
       "      <th>Year Built</th>\n",
       "      <th>Built Code</th>\n",
       "      <th>Zoning Map</th>\n",
       "      <th>DataSet</th>\n",
       "      <th>#ICComplaints</th>\n",
       "      <th>#ICBSC</th>\n",
       "      <th>#ICVios</th>\n",
       "      <th>#ICNoAccess</th>\n",
       "    </tr>\n",
       "  </thead>\n",
       "  <tbody>\n",
       "    <tr>\n",
       "      <th>0</th>\n",
       "      <td>268741</td>\n",
       "      <td>1000005</td>\n",
       "      <td>13</td>\n",
       "      <td>13</td>\n",
       "      <td>13</td>\n",
       "      <td>MANHATTAN</td>\n",
       "      <td>SOUTH STREET</td>\n",
       "      <td>101.0</td>\n",
       "      <td>4</td>\n",
       "      <td>7501</td>\n",
       "      <td>...</td>\n",
       "      <td>NaN</td>\n",
       "      <td>1000005</td>\n",
       "      <td>1969.0</td>\n",
       "      <td>NaN</td>\n",
       "      <td>12b</td>\n",
       "      <td>DataSet2 DataSet3</td>\n",
       "      <td>0.0</td>\n",
       "      <td>0.0</td>\n",
       "      <td>0.0</td>\n",
       "      <td>0.0</td>\n",
       "    </tr>\n",
       "  </tbody>\n",
       "</table>\n",
       "<p>1 rows × 31 columns</p>\n",
       "</div>"
      ],
      "text/plain": [
       "       ##      BIN House # Low House # High House #       Boro        Street  \\\n",
       "0  268741  1000005      13          13           13  MANHATTAN  SOUTH STREET   \n",
       "\n",
       "      CB  Block   Lot     ...       SRO.1    BIN.2 Year Built Built Code  \\\n",
       "0  101.0      4  7501     ...         NaN  1000005     1969.0        NaN   \n",
       "\n",
       "  Zoning Map            DataSet  #ICComplaints  #ICBSC #ICVios  #ICNoAccess  \n",
       "0        12b  DataSet2 DataSet3            0.0     0.0     0.0          0.0  \n",
       "\n",
       "[1 rows x 31 columns]"
      ]
     },
     "execution_count": 36,
     "metadata": {},
     "output_type": "execute_result"
    }
   ],
   "source": [
    "df.head(1)"
   ]
  },
  {
   "cell_type": "markdown",
   "metadata": {},
   "source": [
    "ADD BUILDING CLASSFICATIONS"
   ]
  },
  {
   "cell_type": "code",
   "execution_count": 47,
   "metadata": {
    "collapsed": false
   },
   "outputs": [
    {
     "name": "stdout",
     "output_type": "stream",
     "text": [
      "47\n",
      "label 1-2 families\n"
     ]
    }
   ],
   "source": [
    "\n",
    "df[\"Class Desc\"] = df[\"Class Desc\"].astype(str).map(str.strip).map(str.upper)\n",
    "\n",
    "\n",
    "df['Class Desc'] = df['Class Desc'].str.replace('RESIDENCE-MULTI USE:1 FAMILY W/STORES OROFFICE','RESIDENCE-MULTI USE 1-2 FAMILY')\n",
    "df['Class Desc'] = df['Class Desc'].str.replace('RESIDENCE-MULTI USE:PRIMARY 1 FAMILY W STORE/OFFICE','RESIDENCE-MULTI USE 1-2 FAMILY')\n",
    "df['Class Desc'] = df['Class Desc'].str.replace('RESIDENCE-MULTI USE:PRIMARY 2 FAMILY W STORE/OFFICE','RESIDENCE-MULTI USE 1-2 FAMILY')\n",
    "\n",
    "df['Class Desc'] = df['Class Desc'].str.replace('RESIDENCE-MULTI USE:PRIMARY 3 FAMILY W STORE/OFFICE','RESIDENCE-MULTI USE 3-6 FAMILY')\n",
    "df['Class Desc'] = df['Class Desc'].str.replace('RESIDENCE-MULTI USE:PRIMARY 4 FAMILY W STORE/OFFICE','RESIDENCE-MULTI USE 3-6 FAMILY')\n",
    "df['Class Desc'] = df['Class Desc'].str.replace('RESIDENCE-MULTI USE:PRIMARY 5/6 FAM W STORE/OFFICE','RESIDENCE-MULTI USE 3-6 FAMILY')\n",
    "\n",
    "\n",
    "df[\"Class Desc ReCode\"] = df['Class Desc'].str.split(\":\").str[0]\n",
    "\n",
    "df['Class Desc ReCode'] = df['Class Desc ReCode'].str.replace('1 FAMILY DWELLINGS', '1-2 FAMILY')\n",
    "df['Class Desc ReCode'] = df['Class Desc ReCode'].str.replace('2 FAMILY DWELLINGS', '1-2 FAMILY')\n",
    "#df['Class Desc ReCode'] = df['Class Desc ReCode'].str.replace('RESIDENCE-MULTI USE', 'RESIDENCE-MULTI USE 1-6 FAMILY')\n",
    "\n",
    "classes = sorted( list(set(df[\"Class Desc ReCode\"].tolist() )) )\n",
    "print len(classes)\n",
    "\n",
    "\n",
    "print \"label 1-2 families\"\n",
    "\n",
    "df[\"1-2 FAMILY\"] = 0\n",
    "\n",
    "for i in range(0, len(df)):\n",
    "    if \"1-2 FAMILY\" in df['Class Desc ReCode'][i]:\n",
    "        df[\"1-2 FAMILY\"][i] = 1\n",
    "        \n",
    "print \"DONE\""
   ]
  },
  {
   "cell_type": "markdown",
   "metadata": {},
   "source": [
    "### ADD MULTIPLE DWELLING"
   ]
  },
  {
   "cell_type": "code",
   "execution_count": 55,
   "metadata": {
    "collapsed": false
   },
   "outputs": [],
   "source": [
    "dm = pd.read_csv(path + \"Multiple_Dwelling_Registrations.csv\", low_memory=False)"
   ]
  },
  {
   "cell_type": "code",
   "execution_count": 61,
   "metadata": {
    "collapsed": false
   },
   "outputs": [],
   "source": [
    "dm[\"BIN\"] = dm[\"BIN\"].astype(str)\n",
    "dm[\"BIN\"] = dm[\"BIN\"].str.split(\".\").str[0]\n",
    "dm[\"BIN\"] = dm[\"BIN\"].map(str.strip)\n",
    "\n",
    "binList = dm[\"BIN\"].tolist()\n",
    "\n",
    "dm = dm[[\"BIN\"]]\n",
    "dm[\"MD\"] = 1\n",
    "\n",
    "dmDic = dm.set_index('BIN')['MD'].to_dict()\n",
    "\n",
    "df[\"MD\"] = df[\"BIN\"].map(dmDic)\n",
    "df[\"MD\"] = df[\"MD\"].fillna(0)\n",
    "\n",
    "        "
   ]
  },
  {
   "cell_type": "markdown",
   "metadata": {},
   "source": [
    "### ADD PORTFOLIO SIZE"
   ]
  },
  {
   "cell_type": "code",
   "execution_count": 64,
   "metadata": {
    "collapsed": false
   },
   "outputs": [
    {
     "data": {
      "text/plain": [
       "'C:\\\\Users\\\\dmehri\\\\Documents\\\\DATA\\\\Building Census\\\\Columbia Data\\\\illegal conv\\\\'"
      ]
     },
     "execution_count": 64,
     "metadata": {},
     "output_type": "execute_result"
    }
   ],
   "source": [
    "pathi"
   ]
  },
  {
   "cell_type": "code",
   "execution_count": 76,
   "metadata": {
    "collapsed": false
   },
   "outputs": [],
   "source": [
    "dp = pd.read_csv(pathi + \"IllegConv Ownership Risk Score 3.csv\")\n",
    "\n",
    "dp2 = dp[[\"PhoneCode\", \"Building Count\"]]\n",
    "\n",
    "dp2.head(1)\n",
    "\n",
    "dp = pd.read_csv(path + \"Property BIN and Phone Number with Codes HPD COLUMBIA.csv\")\n",
    "\n",
    "dp = dp[[\"BIN\", \"PhoneCode\"]]\n",
    "\n",
    "dp = pd.merge(dp, dp2, how='left', on=['PhoneCode'])\n",
    "\n"
   ]
  },
  {
   "cell_type": "code",
   "execution_count": 80,
   "metadata": {
    "collapsed": false
   },
   "outputs": [
    {
     "data": {
      "text/html": [
       "<div>\n",
       "<table border=\"1\" class=\"dataframe\">\n",
       "  <thead>\n",
       "    <tr style=\"text-align: right;\">\n",
       "      <th></th>\n",
       "      <th>##</th>\n",
       "      <th>BIN</th>\n",
       "      <th>House #</th>\n",
       "      <th>Low House #</th>\n",
       "      <th>High House #</th>\n",
       "      <th>Boro</th>\n",
       "      <th>Street</th>\n",
       "      <th>CB</th>\n",
       "      <th>Block</th>\n",
       "      <th>Lot</th>\n",
       "      <th>...</th>\n",
       "      <th>Zoning Map</th>\n",
       "      <th>DataSet</th>\n",
       "      <th>#ICComplaints</th>\n",
       "      <th>#ICBSC</th>\n",
       "      <th>#ICVios</th>\n",
       "      <th>#ICNoAccess</th>\n",
       "      <th>NA</th>\n",
       "      <th>Class Desc ReCode</th>\n",
       "      <th>1-2 FAMILY</th>\n",
       "      <th>MD</th>\n",
       "    </tr>\n",
       "  </thead>\n",
       "  <tbody>\n",
       "    <tr>\n",
       "      <th>0</th>\n",
       "      <td>268741</td>\n",
       "      <td>1000005</td>\n",
       "      <td>13</td>\n",
       "      <td>13</td>\n",
       "      <td>13</td>\n",
       "      <td>MANHATTAN</td>\n",
       "      <td>SOUTH STREET</td>\n",
       "      <td>101.0</td>\n",
       "      <td>4</td>\n",
       "      <td>7501</td>\n",
       "      <td>...</td>\n",
       "      <td>12b</td>\n",
       "      <td>DataSet2 DataSet3</td>\n",
       "      <td>0.0</td>\n",
       "      <td>0.0</td>\n",
       "      <td>0.0</td>\n",
       "      <td>0.0</td>\n",
       "      <td>1.0</td>\n",
       "      <td>CONDOMINIUMS</td>\n",
       "      <td>0</td>\n",
       "      <td>0.0</td>\n",
       "    </tr>\n",
       "  </tbody>\n",
       "</table>\n",
       "<p>1 rows × 35 columns</p>\n",
       "</div>"
      ],
      "text/plain": [
       "       ##      BIN House # Low House # High House #       Boro        Street  \\\n",
       "0  268741  1000005      13          13           13  MANHATTAN  SOUTH STREET   \n",
       "\n",
       "      CB  Block   Lot ...   Zoning Map            DataSet #ICComplaints  \\\n",
       "0  101.0      4  7501 ...          12b  DataSet2 DataSet3           0.0   \n",
       "\n",
       "  #ICBSC #ICVios #ICNoAccess   NA  Class Desc ReCode 1-2 FAMILY   MD  \n",
       "0    0.0     0.0         0.0  1.0       CONDOMINIUMS          0  0.0  \n",
       "\n",
       "[1 rows x 35 columns]"
      ]
     },
     "execution_count": 80,
     "metadata": {},
     "output_type": "execute_result"
    }
   ],
   "source": [
    "df.head(1)"
   ]
  },
  {
   "cell_type": "code",
   "execution_count": 87,
   "metadata": {
    "collapsed": false
   },
   "outputs": [
    {
     "name": "stdout",
     "output_type": "stream",
     "text": [
      "317538\n",
      "317538\n"
     ]
    }
   ],
   "source": [
    "dp2 = dp[[\"BIN\", \"Building Count\"]]\n",
    "\n",
    "dp2[\"BIN\"] = dp2[\"BIN\"].astype(str)\n",
    "\n",
    "dpG1 = (dp2.groupby('BIN').agg({'Building Count':'mean'}).reset_index().rename(columns={'Building Count':'Owner Portfolio Size Mean'}) )\n",
    "\n",
    "print len(df)\n",
    "df2 = pd.merge(df, dpG1, how='left', on=['BIN'])\n",
    "print len(df2)\n"
   ]
  },
  {
   "cell_type": "code",
   "execution_count": 86,
   "metadata": {
    "collapsed": false
   },
   "outputs": [
    {
     "data": {
      "text/plain": [
       "'1000005'"
      ]
     },
     "execution_count": 86,
     "metadata": {},
     "output_type": "execute_result"
    }
   ],
   "source": [
    "dpG1[\"BIN\"][0]"
   ]
  },
  {
   "cell_type": "code",
   "execution_count": 91,
   "metadata": {
    "collapsed": false
   },
   "outputs": [],
   "source": [
    "df.to_csv(pathi + \"Building Censes Illeg Conv Columbia Regression.csv\", index=False)"
   ]
  },
  {
   "cell_type": "code",
   "execution_count": 89,
   "metadata": {
    "collapsed": false
   },
   "outputs": [
    {
     "data": {
      "text/html": [
       "<div>\n",
       "<table border=\"1\" class=\"dataframe\">\n",
       "  <thead>\n",
       "    <tr style=\"text-align: right;\">\n",
       "      <th></th>\n",
       "      <th>##</th>\n",
       "      <th>BIN</th>\n",
       "      <th>House #</th>\n",
       "      <th>Low House #</th>\n",
       "      <th>High House #</th>\n",
       "      <th>Boro</th>\n",
       "      <th>Street</th>\n",
       "      <th>CB</th>\n",
       "      <th>Block</th>\n",
       "      <th>Lot</th>\n",
       "      <th>...</th>\n",
       "      <th>Zoning Map</th>\n",
       "      <th>DataSet</th>\n",
       "      <th>#ICComplaints</th>\n",
       "      <th>#ICBSC</th>\n",
       "      <th>#ICVios</th>\n",
       "      <th>#ICNoAccess</th>\n",
       "      <th>NA</th>\n",
       "      <th>Class Desc ReCode</th>\n",
       "      <th>1-2 FAMILY</th>\n",
       "      <th>MD</th>\n",
       "    </tr>\n",
       "  </thead>\n",
       "  <tbody>\n",
       "    <tr>\n",
       "      <th>0</th>\n",
       "      <td>268741</td>\n",
       "      <td>1000005</td>\n",
       "      <td>13</td>\n",
       "      <td>13</td>\n",
       "      <td>13</td>\n",
       "      <td>MANHATTAN</td>\n",
       "      <td>SOUTH STREET</td>\n",
       "      <td>101.0</td>\n",
       "      <td>4</td>\n",
       "      <td>7501</td>\n",
       "      <td>...</td>\n",
       "      <td>12b</td>\n",
       "      <td>DataSet2 DataSet3</td>\n",
       "      <td>0.0</td>\n",
       "      <td>0.0</td>\n",
       "      <td>0.0</td>\n",
       "      <td>0.0</td>\n",
       "      <td>1.0</td>\n",
       "      <td>CONDOMINIUMS</td>\n",
       "      <td>0</td>\n",
       "      <td>0.0</td>\n",
       "    </tr>\n",
       "  </tbody>\n",
       "</table>\n",
       "<p>1 rows × 35 columns</p>\n",
       "</div>"
      ],
      "text/plain": [
       "       ##      BIN House # Low House # High House #       Boro        Street  \\\n",
       "0  268741  1000005      13          13           13  MANHATTAN  SOUTH STREET   \n",
       "\n",
       "      CB  Block   Lot ...   Zoning Map            DataSet #ICComplaints  \\\n",
       "0  101.0      4  7501 ...          12b  DataSet2 DataSet3           0.0   \n",
       "\n",
       "  #ICBSC #ICVios #ICNoAccess   NA  Class Desc ReCode 1-2 FAMILY   MD  \n",
       "0    0.0     0.0         0.0  1.0       CONDOMINIUMS          0  0.0  \n",
       "\n",
       "[1 rows x 35 columns]"
      ]
     },
     "execution_count": 89,
     "metadata": {},
     "output_type": "execute_result"
    }
   ],
   "source": [
    "df.head(1)"
   ]
  },
  {
   "cell_type": "code",
   "execution_count": null,
   "metadata": {
    "collapsed": false
   },
   "outputs": [],
   "source": [
    "d3.to_csv(path + \"DOF Building Classifications Recoded.csv\", index=False)"
   ]
  },
  {
   "cell_type": "code",
   "execution_count": null,
   "metadata": {
    "collapsed": true
   },
   "outputs": [],
   "source": [
    "d2.to_csv(path + \"test.csv\", index=False)"
   ]
  },
  {
   "cell_type": "code",
   "execution_count": null,
   "metadata": {
    "collapsed": false
   },
   "outputs": [],
   "source": [
    "df.head(1)"
   ]
  },
  {
   "cell_type": "markdown",
   "metadata": {},
   "source": [
    "MERGE BUILDING CLASSIFICAITON"
   ]
  },
  {
   "cell_type": "code",
   "execution_count": null,
   "metadata": {
    "collapsed": false
   },
   "outputs": [],
   "source": [
    "d2merge = d2[[\"BIN\", \"Class Desc ReCode\"]]\n",
    "d2merge = d2merge.rename(columns={'Class Desc ReCode': \n",
    "                                  'Building Classification'})\n",
    "\n",
    "d2mergeDic = d2merge.set_index('BIN')['Building Classification'].to_dict()\n",
    "\n",
    "\n",
    "\n",
    "df[\"Building Classification\"] = df[\"BIN\"].map(d2mergeDic)\n"
   ]
  },
  {
   "cell_type": "code",
   "execution_count": null,
   "metadata": {
    "collapsed": false
   },
   "outputs": [],
   "source": [
    "df.head(1)"
   ]
  },
  {
   "cell_type": "code",
   "execution_count": null,
   "metadata": {
    "collapsed": true
   },
   "outputs": [],
   "source": [
    "df.to_csv(path + \"Building Census Illegal Conversion NA Analysis.csv\", index=False)"
   ]
  },
  {
   "cell_type": "markdown",
   "metadata": {},
   "source": [
    "CALCULATE WITHIN CLASSIFICAITION"
   ]
  },
  {
   "cell_type": "code",
   "execution_count": null,
   "metadata": {
    "collapsed": true
   },
   "outputs": [],
   "source": [
    "pd.set_option('chained_assignment', None)\n",
    "\n",
    "dc = pd.read_csv(path + \"Comprehensive 1- 317K HPD List.csv\",low_memory=False )\n",
    "\n",
    "dc[\"BIN\"] = dc[\"BIN\"].astype(str).map(str.strip)\n",
    "\n",
    "\n",
    "d2 = dc[[\"BIN\", \"Class Desc\"]]\n",
    "\n",
    "d2[\"Class Desc\"] = d2[\"Class Desc\"].astype(str).map(str.strip).map(str.upper)\n",
    "\n",
    "\n",
    "d2['Class Desc'] = d2['Class Desc'].str.replace('RESIDENCE-MULTI USE:1 FAMILY W/STORES OROFFICE','RESIDENCE-MULTI USE 1-2 FAMILY')\n",
    "d2['Class Desc'] = d2['Class Desc'].str.replace('RESIDENCE-MULTI USE:PRIMARY 1 FAMILY W STORE/OFFICE','RESIDENCE-MULTI USE 1-2 FAMILY')\n",
    "d2['Class Desc'] = d2['Class Desc'].str.replace('RESIDENCE-MULTI USE:PRIMARY 2 FAMILY W STORE/OFFICE','RESIDENCE-MULTI USE 1-2 FAMILY')\n",
    "\n",
    "d2['Class Desc'] = d2['Class Desc'].str.replace('RESIDENCE-MULTI USE:PRIMARY 3 FAMILY W STORE/OFFICE','RESIDENCE-MULTI USE 3-6 FAMILY')\n",
    "d2['Class Desc'] = d2['Class Desc'].str.replace('RESIDENCE-MULTI USE:PRIMARY 4 FAMILY W STORE/OFFICE','RESIDENCE-MULTI USE 3-6 FAMILY')\n",
    "d2['Class Desc'] = d2['Class Desc'].str.replace('RESIDENCE-MULTI USE:PRIMARY 5/6 FAM W STORE/OFFICE','RESIDENCE-MULTI USE 3-6 FAMILY')\n",
    "\n",
    "\n",
    "d2[\"Class Desc ReCode\"] = d2['Class Desc'].str.split(\":\").str[0]\n",
    "\n",
    "d2['Class Desc ReCode'] = d2['Class Desc ReCode'].str.replace('1 FAMILY DWELLINGS', '1-2 FAMILY')\n",
    "d2['Class Desc ReCode'] = d2['Class Desc ReCode'].str.replace('2 FAMILY DWELLINGS', '1-2 FAMILY')\n",
    "#d2['Class Desc ReCode'] = d2['Class Desc ReCode'].str.replace('RESIDENCE-MULTI USE', 'RESIDENCE-MULTI USE 1-6 FAMILY')\n",
    "\n",
    "classes = sorted( list(set(d2[\"Class Desc ReCode\"].tolist() )) )\n",
    "\n",
    "d2[\"IllegConv\"] = d2[\"BIN\"].map(di2Dic)\n",
    "d2[\"IllegConv\"] = d2[\"IllegConv\"].fillna(0)\n",
    "\n",
    "\n",
    "d2[\"NA\"] = d2[\"BIN\"].map(naDic)\n",
    "d2[\"NA\"] = d2[\"NA\"].fillna(0)"
   ]
  },
  {
   "cell_type": "code",
   "execution_count": null,
   "metadata": {
    "collapsed": false,
    "scrolled": false
   },
   "outputs": [],
   "source": [
    "d2.to_csv(path + \"test.csv\", index=False)"
   ]
  },
  {
   "cell_type": "code",
   "execution_count": null,
   "metadata": {
    "collapsed": true
   },
   "outputs": [],
   "source": [
    "d2[\"Not NA\"] = 0\n",
    "for i in range(0, len(d2)):\n",
    "    if d2[\"NA\"][i] == 0:\n",
    "        d2[\"Not NA\"][i] = 1\n",
    "        "
   ]
  },
  {
   "cell_type": "code",
   "execution_count": null,
   "metadata": {
    "collapsed": false
   },
   "outputs": [],
   "source": [
    "d2.tail(5)"
   ]
  },
  {
   "cell_type": "code",
   "execution_count": null,
   "metadata": {
    "collapsed": false
   },
   "outputs": [],
   "source": [
    "d2 = d2.rename(columns={'Class Desc ReCode': 'Building Classification'})\n",
    "\n",
    "d2[\"Building Count\"] = 1\n",
    "\n",
    "dclass = d2[[\"Building Classification\", \"Building Count\", \n",
    "             \"IllegConv\", \"NA\"]]\n",
    "\n",
    "dcount = d2[[\"Building Classification\", \"Building Count\", \"NA\", \"Not NA\"]]\n",
    "\n",
    "dcount = dcount.groupby(['Building Classification']).sum()\n",
    "\n",
    "dcount = dcount.add_suffix('').reset_index()\n",
    "\n",
    "dcount = dcount.sort_values(by = 'Building Count', ascending=False).reset_index(drop=True)\n",
    "\n",
    "dclassNA = dclass[dclass[\"NA\"] == 1]\n",
    "\n",
    "dclassNA = dclassNA[[\"Building Classification\", \"IllegConv\"]]\n",
    "\n",
    "print \"Number of NAs\", len(dclassNA)\n",
    "\n",
    "dclassNA = dclassNA.groupby(['Building Classification']).sum()\n",
    "\n",
    "dclassNA = dclassNA.add_suffix('').reset_index()\n",
    "\n",
    "dcount2 = pd.merge(dcount, dclassNA, how='left', on=['Building Classification'])\n",
    "\n",
    "dcount2 = dcount2.rename(columns={'IllegConv': 'IllegConvNA'})\n",
    "\n",
    "dclassNA = dclass[dclass[\"NA\"] == 0]\n",
    "\n",
    "dclassNA = dclassNA[[\"Building Classification\", \"IllegConv\"]]\n",
    "\n",
    "print \"Number of Not NA\", len(dclassNA)\n",
    "\n",
    "dclassNA = dclassNA.groupby(['Building Classification']).sum()\n",
    "\n",
    "dclassNA = dclassNA.add_suffix('').reset_index()\n",
    "\n",
    "dcount3 = pd.merge(dcount2, dclassNA, how='left', on=['Building Classification'])\n",
    "\n",
    "dcount3 = dcount3.rename(columns={'IllegConv': 'IllegConvNotNA'})\n"
   ]
  },
  {
   "cell_type": "code",
   "execution_count": null,
   "metadata": {
    "collapsed": false
   },
   "outputs": [],
   "source": [
    "dcount3.to_csv(path + \"Build Class IllegConv Conditioned NA.csv\", index=False)"
   ]
  },
  {
   "cell_type": "code",
   "execution_count": null,
   "metadata": {
    "collapsed": false
   },
   "outputs": [],
   "source": [
    "len(dclassNA)"
   ]
  },
  {
   "cell_type": "code",
   "execution_count": null,
   "metadata": {
    "collapsed": true
   },
   "outputs": [],
   "source": []
  }
 ],
 "metadata": {
  "kernelspec": {
   "display_name": "Python 2",
   "language": "python",
   "name": "python2"
  },
  "language_info": {
   "codemirror_mode": {
    "name": "ipython",
    "version": 2
   },
   "file_extension": ".py",
   "mimetype": "text/x-python",
   "name": "python",
   "nbconvert_exporter": "python",
   "pygments_lexer": "ipython2",
   "version": "2.7.13"
  }
 },
 "nbformat": 4,
 "nbformat_minor": 2
}
